{
 "cells": [
  {
   "cell_type": "markdown",
   "metadata": {},
   "source": [
    "***```url: http://www.pythonchallenge.com/pc/def/linkedlist.html```***"
   ]
  },
  {
   "cell_type": "code",
   "execution_count": 13,
   "metadata": {},
   "outputs": [],
   "source": [
    "import requests, re"
   ]
  },
  {
   "cell_type": "code",
   "execution_count": 14,
   "metadata": {},
   "outputs": [],
   "source": [
    "base_url = 'http://www.pythonchallenge.com/pc/def/linkedlist.php?nothing='"
   ]
  },
  {
   "cell_type": "code",
   "execution_count": 15,
   "metadata": {},
   "outputs": [],
   "source": [
    "url = base_url + '12345'\n",
    "i = 1"
   ]
  },
  {
   "cell_type": "code",
   "execution_count": 16,
   "metadata": {
    "collapsed": true
   },
   "outputs": [
    {
     "name": "stdout",
     "output_type": "stream",
     "text": [
      "1 http://www.pythonchallenge.com/pc/def/linkedlist.php?nothing=12345\n",
      "2 http://www.pythonchallenge.com/pc/def/linkedlist.php?nothing=44827\n",
      "3 http://www.pythonchallenge.com/pc/def/linkedlist.php?nothing=45439\n",
      "4 http://www.pythonchallenge.com/pc/def/linkedlist.php?nothing=94485\n",
      "5 http://www.pythonchallenge.com/pc/def/linkedlist.php?nothing=72198\n",
      "6 http://www.pythonchallenge.com/pc/def/linkedlist.php?nothing=80992\n",
      "7 http://www.pythonchallenge.com/pc/def/linkedlist.php?nothing=8880\n",
      "8 http://www.pythonchallenge.com/pc/def/linkedlist.php?nothing=40961\n",
      "9 http://www.pythonchallenge.com/pc/def/linkedlist.php?nothing=58765\n",
      "10 http://www.pythonchallenge.com/pc/def/linkedlist.php?nothing=46561\n",
      "11 http://www.pythonchallenge.com/pc/def/linkedlist.php?nothing=13418\n",
      "12 http://www.pythonchallenge.com/pc/def/linkedlist.php?nothing=41954\n",
      "13 http://www.pythonchallenge.com/pc/def/linkedlist.php?nothing=46782\n",
      "14 http://www.pythonchallenge.com/pc/def/linkedlist.php?nothing=92730\n",
      "15 http://www.pythonchallenge.com/pc/def/linkedlist.php?nothing=89229\n",
      "16 http://www.pythonchallenge.com/pc/def/linkedlist.php?nothing=25646\n",
      "17 http://www.pythonchallenge.com/pc/def/linkedlist.php?nothing=74288\n",
      "18 http://www.pythonchallenge.com/pc/def/linkedlist.php?nothing=25945\n",
      "19 http://www.pythonchallenge.com/pc/def/linkedlist.php?nothing=39876\n",
      "20 http://www.pythonchallenge.com/pc/def/linkedlist.php?nothing=8498\n",
      "21 http://www.pythonchallenge.com/pc/def/linkedlist.php?nothing=34684\n",
      "22 http://www.pythonchallenge.com/pc/def/linkedlist.php?nothing=62316\n",
      "23 http://www.pythonchallenge.com/pc/def/linkedlist.php?nothing=71331\n",
      "24 http://www.pythonchallenge.com/pc/def/linkedlist.php?nothing=59717\n",
      "25 http://www.pythonchallenge.com/pc/def/linkedlist.php?nothing=76893\n",
      "26 http://www.pythonchallenge.com/pc/def/linkedlist.php?nothing=44091\n",
      "27 http://www.pythonchallenge.com/pc/def/linkedlist.php?nothing=73241\n",
      "28 http://www.pythonchallenge.com/pc/def/linkedlist.php?nothing=19242\n",
      "29 http://www.pythonchallenge.com/pc/def/linkedlist.php?nothing=17476\n",
      "30 http://www.pythonchallenge.com/pc/def/linkedlist.php?nothing=39566\n",
      "31 http://www.pythonchallenge.com/pc/def/linkedlist.php?nothing=81293\n",
      "32 http://www.pythonchallenge.com/pc/def/linkedlist.php?nothing=25857\n",
      "33 http://www.pythonchallenge.com/pc/def/linkedlist.php?nothing=74343\n",
      "34 http://www.pythonchallenge.com/pc/def/linkedlist.php?nothing=39410\n",
      "35 http://www.pythonchallenge.com/pc/def/linkedlist.php?nothing=5505\n",
      "36 http://www.pythonchallenge.com/pc/def/linkedlist.php?nothing=27104\n",
      "37 http://www.pythonchallenge.com/pc/def/linkedlist.php?nothing=54003\n",
      "38 http://www.pythonchallenge.com/pc/def/linkedlist.php?nothing=23501\n",
      "39 http://www.pythonchallenge.com/pc/def/linkedlist.php?nothing=21110\n",
      "40 http://www.pythonchallenge.com/pc/def/linkedlist.php?nothing=88399\n",
      "41 http://www.pythonchallenge.com/pc/def/linkedlist.php?nothing=49740\n",
      "42 http://www.pythonchallenge.com/pc/def/linkedlist.php?nothing=31552\n",
      "43 http://www.pythonchallenge.com/pc/def/linkedlist.php?nothing=39998\n",
      "44 http://www.pythonchallenge.com/pc/def/linkedlist.php?nothing=19755\n",
      "45 http://www.pythonchallenge.com/pc/def/linkedlist.php?nothing=64624\n",
      "46 http://www.pythonchallenge.com/pc/def/linkedlist.php?nothing=37817\n",
      "47 http://www.pythonchallenge.com/pc/def/linkedlist.php?nothing=43427\n",
      "48 http://www.pythonchallenge.com/pc/def/linkedlist.php?nothing=15115\n",
      "49 http://www.pythonchallenge.com/pc/def/linkedlist.php?nothing=44327\n",
      "50 http://www.pythonchallenge.com/pc/def/linkedlist.php?nothing=7715\n",
      "51 http://www.pythonchallenge.com/pc/def/linkedlist.php?nothing=15248\n",
      "52 http://www.pythonchallenge.com/pc/def/linkedlist.php?nothing=61895\n",
      "53 http://www.pythonchallenge.com/pc/def/linkedlist.php?nothing=54759\n",
      "54 http://www.pythonchallenge.com/pc/def/linkedlist.php?nothing=54270\n",
      "55 http://www.pythonchallenge.com/pc/def/linkedlist.php?nothing=51332\n",
      "56 http://www.pythonchallenge.com/pc/def/linkedlist.php?nothing=63481\n",
      "57 http://www.pythonchallenge.com/pc/def/linkedlist.php?nothing=12362\n",
      "58 http://www.pythonchallenge.com/pc/def/linkedlist.php?nothing=94476\n",
      "59 http://www.pythonchallenge.com/pc/def/linkedlist.php?nothing=87810\n",
      "60 http://www.pythonchallenge.com/pc/def/linkedlist.php?nothing=6027\n",
      "61 http://www.pythonchallenge.com/pc/def/linkedlist.php?nothing=47551\n",
      "62 http://www.pythonchallenge.com/pc/def/linkedlist.php?nothing=79498\n",
      "63 http://www.pythonchallenge.com/pc/def/linkedlist.php?nothing=81226\n",
      "64 http://www.pythonchallenge.com/pc/def/linkedlist.php?nothing=4256\n",
      "65 http://www.pythonchallenge.com/pc/def/linkedlist.php?nothing=62734\n",
      "66 http://www.pythonchallenge.com/pc/def/linkedlist.php?nothing=25666\n",
      "67 http://www.pythonchallenge.com/pc/def/linkedlist.php?nothing=14781\n",
      "68 http://www.pythonchallenge.com/pc/def/linkedlist.php?nothing=21412\n",
      "69 http://www.pythonchallenge.com/pc/def/linkedlist.php?nothing=55205\n",
      "70 http://www.pythonchallenge.com/pc/def/linkedlist.php?nothing=65516\n",
      "71 http://www.pythonchallenge.com/pc/def/linkedlist.php?nothing=53535\n",
      "72 http://www.pythonchallenge.com/pc/def/linkedlist.php?nothing=4437\n",
      "73 http://www.pythonchallenge.com/pc/def/linkedlist.php?nothing=43442\n",
      "74 http://www.pythonchallenge.com/pc/def/linkedlist.php?nothing=91308\n",
      "75 http://www.pythonchallenge.com/pc/def/linkedlist.php?nothing=1312\n",
      "76 http://www.pythonchallenge.com/pc/def/linkedlist.php?nothing=36268\n",
      "77 http://www.pythonchallenge.com/pc/def/linkedlist.php?nothing=34289\n",
      "78 http://www.pythonchallenge.com/pc/def/linkedlist.php?nothing=46384\n",
      "79 http://www.pythonchallenge.com/pc/def/linkedlist.php?nothing=18097\n",
      "80 http://www.pythonchallenge.com/pc/def/linkedlist.php?nothing=9401\n",
      "81 http://www.pythonchallenge.com/pc/def/linkedlist.php?nothing=54249\n",
      "82 http://www.pythonchallenge.com/pc/def/linkedlist.php?nothing=29247\n",
      "83 http://www.pythonchallenge.com/pc/def/linkedlist.php?nothing=13115\n",
      "84 http://www.pythonchallenge.com/pc/def/linkedlist.php?nothing=23053\n",
      "85 http://www.pythonchallenge.com/pc/def/linkedlist.php?nothing=3875\n",
      "86 http://www.pythonchallenge.com/pc/def/linkedlist.php?nothing=16044\n"
     ]
    }
   ],
   "source": [
    "while True:\n",
    "    print(i, url)\n",
    "    i = i + 1\n",
    "    r = requests.get(url)\n",
    "    next_nothing = re.search(r'\\d+', r.text)\n",
    "    if not next_nothing:\n",
    "        break\n",
    "    url = base_url + next_nothing.group()"
   ]
  },
  {
   "cell_type": "code",
   "execution_count": 17,
   "metadata": {},
   "outputs": [
    {
     "data": {
      "text/plain": [
       "'http://www.pythonchallenge.com/pc/def/linkedlist.php?nothing=16044'"
      ]
     },
     "execution_count": 17,
     "metadata": {},
     "output_type": "execute_result"
    }
   ],
   "source": [
    "url"
   ]
  },
  {
   "cell_type": "code",
   "execution_count": 18,
   "metadata": {},
   "outputs": [],
   "source": [
    "url = base_url + str(16044 // 2)"
   ]
  },
  {
   "cell_type": "code",
   "execution_count": 19,
   "metadata": {
    "collapsed": true
   },
   "outputs": [
    {
     "name": "stdout",
     "output_type": "stream",
     "text": [
      "87 http://www.pythonchallenge.com/pc/def/linkedlist.php?nothing=8022\n",
      "88 http://www.pythonchallenge.com/pc/def/linkedlist.php?nothing=25357\n",
      "89 http://www.pythonchallenge.com/pc/def/linkedlist.php?nothing=89879\n",
      "90 http://www.pythonchallenge.com/pc/def/linkedlist.php?nothing=80119\n",
      "91 http://www.pythonchallenge.com/pc/def/linkedlist.php?nothing=50290\n",
      "92 http://www.pythonchallenge.com/pc/def/linkedlist.php?nothing=9297\n",
      "93 http://www.pythonchallenge.com/pc/def/linkedlist.php?nothing=30571\n",
      "94 http://www.pythonchallenge.com/pc/def/linkedlist.php?nothing=7414\n",
      "95 http://www.pythonchallenge.com/pc/def/linkedlist.php?nothing=30978\n",
      "96 http://www.pythonchallenge.com/pc/def/linkedlist.php?nothing=16408\n",
      "97 http://www.pythonchallenge.com/pc/def/linkedlist.php?nothing=80109\n",
      "98 http://www.pythonchallenge.com/pc/def/linkedlist.php?nothing=55736\n",
      "99 http://www.pythonchallenge.com/pc/def/linkedlist.php?nothing=15357\n",
      "100 http://www.pythonchallenge.com/pc/def/linkedlist.php?nothing=80887\n",
      "101 http://www.pythonchallenge.com/pc/def/linkedlist.php?nothing=35014\n",
      "102 http://www.pythonchallenge.com/pc/def/linkedlist.php?nothing=16523\n",
      "103 http://www.pythonchallenge.com/pc/def/linkedlist.php?nothing=50286\n",
      "104 http://www.pythonchallenge.com/pc/def/linkedlist.php?nothing=34813\n",
      "105 http://www.pythonchallenge.com/pc/def/linkedlist.php?nothing=77562\n",
      "106 http://www.pythonchallenge.com/pc/def/linkedlist.php?nothing=54746\n",
      "107 http://www.pythonchallenge.com/pc/def/linkedlist.php?nothing=22680\n",
      "108 http://www.pythonchallenge.com/pc/def/linkedlist.php?nothing=19705\n",
      "109 http://www.pythonchallenge.com/pc/def/linkedlist.php?nothing=77000\n",
      "110 http://www.pythonchallenge.com/pc/def/linkedlist.php?nothing=27634\n",
      "111 http://www.pythonchallenge.com/pc/def/linkedlist.php?nothing=21008\n",
      "112 http://www.pythonchallenge.com/pc/def/linkedlist.php?nothing=64994\n",
      "113 http://www.pythonchallenge.com/pc/def/linkedlist.php?nothing=66109\n",
      "114 http://www.pythonchallenge.com/pc/def/linkedlist.php?nothing=37855\n",
      "115 http://www.pythonchallenge.com/pc/def/linkedlist.php?nothing=36383\n",
      "116 http://www.pythonchallenge.com/pc/def/linkedlist.php?nothing=68548\n",
      "117 http://www.pythonchallenge.com/pc/def/linkedlist.php?nothing=96070\n",
      "118 http://www.pythonchallenge.com/pc/def/linkedlist.php?nothing=83051\n",
      "119 http://www.pythonchallenge.com/pc/def/linkedlist.php?nothing=58026\n",
      "120 http://www.pythonchallenge.com/pc/def/linkedlist.php?nothing=44726\n",
      "121 http://www.pythonchallenge.com/pc/def/linkedlist.php?nothing=35748\n",
      "122 http://www.pythonchallenge.com/pc/def/linkedlist.php?nothing=61287\n",
      "123 http://www.pythonchallenge.com/pc/def/linkedlist.php?nothing=559\n",
      "124 http://www.pythonchallenge.com/pc/def/linkedlist.php?nothing=81318\n",
      "125 http://www.pythonchallenge.com/pc/def/linkedlist.php?nothing=50443\n",
      "126 http://www.pythonchallenge.com/pc/def/linkedlist.php?nothing=1570\n",
      "127 http://www.pythonchallenge.com/pc/def/linkedlist.php?nothing=75244\n",
      "128 http://www.pythonchallenge.com/pc/def/linkedlist.php?nothing=56265\n",
      "129 http://www.pythonchallenge.com/pc/def/linkedlist.php?nothing=17694\n",
      "130 http://www.pythonchallenge.com/pc/def/linkedlist.php?nothing=48033\n",
      "131 http://www.pythonchallenge.com/pc/def/linkedlist.php?nothing=56523\n",
      "132 http://www.pythonchallenge.com/pc/def/linkedlist.php?nothing=51253\n",
      "133 http://www.pythonchallenge.com/pc/def/linkedlist.php?nothing=85750\n",
      "134 http://www.pythonchallenge.com/pc/def/linkedlist.php?nothing=42760\n",
      "135 http://www.pythonchallenge.com/pc/def/linkedlist.php?nothing=11877\n",
      "136 http://www.pythonchallenge.com/pc/def/linkedlist.php?nothing=15962\n",
      "137 http://www.pythonchallenge.com/pc/def/linkedlist.php?nothing=75494\n",
      "138 http://www.pythonchallenge.com/pc/def/linkedlist.php?nothing=87283\n",
      "139 http://www.pythonchallenge.com/pc/def/linkedlist.php?nothing=40396\n",
      "140 http://www.pythonchallenge.com/pc/def/linkedlist.php?nothing=49574\n",
      "141 http://www.pythonchallenge.com/pc/def/linkedlist.php?nothing=82682\n",
      "142 http://www.pythonchallenge.com/pc/def/linkedlist.php?nothing=82683\n"
     ]
    }
   ],
   "source": [
    "while True:\n",
    "    print(i, url)\n",
    "    i = i + 1\n",
    "    r = requests.get(url)\n",
    "    next_nothing = re.search(r'\\d+', r.text)\n",
    "    if not next_nothing:\n",
    "        break\n",
    "    url = base_url + next_nothing.group()"
   ]
  },
  {
   "cell_type": "code",
   "execution_count": 20,
   "metadata": {},
   "outputs": [],
   "source": [
    "url = base_url + '63579'"
   ]
  },
  {
   "cell_type": "code",
   "execution_count": 21,
   "metadata": {
    "collapsed": true
   },
   "outputs": [
    {
     "name": "stdout",
     "output_type": "stream",
     "text": [
      "143 http://www.pythonchallenge.com/pc/def/linkedlist.php?nothing=63579\n",
      "144 http://www.pythonchallenge.com/pc/def/linkedlist.php?nothing=37278\n",
      "145 http://www.pythonchallenge.com/pc/def/linkedlist.php?nothing=53548\n",
      "146 http://www.pythonchallenge.com/pc/def/linkedlist.php?nothing=66081\n",
      "147 http://www.pythonchallenge.com/pc/def/linkedlist.php?nothing=67753\n",
      "148 http://www.pythonchallenge.com/pc/def/linkedlist.php?nothing=56337\n",
      "149 http://www.pythonchallenge.com/pc/def/linkedlist.php?nothing=3356\n",
      "150 http://www.pythonchallenge.com/pc/def/linkedlist.php?nothing=94525\n",
      "151 http://www.pythonchallenge.com/pc/def/linkedlist.php?nothing=89574\n",
      "152 http://www.pythonchallenge.com/pc/def/linkedlist.php?nothing=4413\n",
      "153 http://www.pythonchallenge.com/pc/def/linkedlist.php?nothing=82294\n",
      "154 http://www.pythonchallenge.com/pc/def/linkedlist.php?nothing=56060\n",
      "155 http://www.pythonchallenge.com/pc/def/linkedlist.php?nothing=95493\n",
      "156 http://www.pythonchallenge.com/pc/def/linkedlist.php?nothing=80865\n",
      "157 http://www.pythonchallenge.com/pc/def/linkedlist.php?nothing=66242\n",
      "158 http://www.pythonchallenge.com/pc/def/linkedlist.php?nothing=16065\n",
      "159 http://www.pythonchallenge.com/pc/def/linkedlist.php?nothing=62145\n",
      "160 http://www.pythonchallenge.com/pc/def/linkedlist.php?nothing=23147\n",
      "161 http://www.pythonchallenge.com/pc/def/linkedlist.php?nothing=83763\n",
      "162 http://www.pythonchallenge.com/pc/def/linkedlist.php?nothing=62381\n",
      "163 http://www.pythonchallenge.com/pc/def/linkedlist.php?nothing=76841\n",
      "164 http://www.pythonchallenge.com/pc/def/linkedlist.php?nothing=91706\n",
      "165 http://www.pythonchallenge.com/pc/def/linkedlist.php?nothing=9268\n",
      "166 http://www.pythonchallenge.com/pc/def/linkedlist.php?nothing=64814\n",
      "167 http://www.pythonchallenge.com/pc/def/linkedlist.php?nothing=80809\n",
      "168 http://www.pythonchallenge.com/pc/def/linkedlist.php?nothing=14039\n",
      "169 http://www.pythonchallenge.com/pc/def/linkedlist.php?nothing=73355\n",
      "170 http://www.pythonchallenge.com/pc/def/linkedlist.php?nothing=81905\n",
      "171 http://www.pythonchallenge.com/pc/def/linkedlist.php?nothing=36402\n",
      "172 http://www.pythonchallenge.com/pc/def/linkedlist.php?nothing=27221\n",
      "173 http://www.pythonchallenge.com/pc/def/linkedlist.php?nothing=79607\n",
      "174 http://www.pythonchallenge.com/pc/def/linkedlist.php?nothing=91763\n",
      "175 http://www.pythonchallenge.com/pc/def/linkedlist.php?nothing=11631\n",
      "176 http://www.pythonchallenge.com/pc/def/linkedlist.php?nothing=76396\n",
      "177 http://www.pythonchallenge.com/pc/def/linkedlist.php?nothing=69905\n",
      "178 http://www.pythonchallenge.com/pc/def/linkedlist.php?nothing=11073\n",
      "179 http://www.pythonchallenge.com/pc/def/linkedlist.php?nothing=71281\n",
      "180 http://www.pythonchallenge.com/pc/def/linkedlist.php?nothing=54345\n",
      "181 http://www.pythonchallenge.com/pc/def/linkedlist.php?nothing=19047\n",
      "182 http://www.pythonchallenge.com/pc/def/linkedlist.php?nothing=34376\n",
      "183 http://www.pythonchallenge.com/pc/def/linkedlist.php?nothing=3193\n",
      "184 http://www.pythonchallenge.com/pc/def/linkedlist.php?nothing=74258\n",
      "185 http://www.pythonchallenge.com/pc/def/linkedlist.php?nothing=62712\n",
      "186 http://www.pythonchallenge.com/pc/def/linkedlist.php?nothing=1823\n",
      "187 http://www.pythonchallenge.com/pc/def/linkedlist.php?nothing=21232\n",
      "188 http://www.pythonchallenge.com/pc/def/linkedlist.php?nothing=87890\n",
      "189 http://www.pythonchallenge.com/pc/def/linkedlist.php?nothing=21545\n",
      "190 http://www.pythonchallenge.com/pc/def/linkedlist.php?nothing=37136\n",
      "191 http://www.pythonchallenge.com/pc/def/linkedlist.php?nothing=23060\n",
      "192 http://www.pythonchallenge.com/pc/def/linkedlist.php?nothing=5385\n",
      "193 http://www.pythonchallenge.com/pc/def/linkedlist.php?nothing=4620\n",
      "194 http://www.pythonchallenge.com/pc/def/linkedlist.php?nothing=39111\n",
      "195 http://www.pythonchallenge.com/pc/def/linkedlist.php?nothing=35914\n",
      "196 http://www.pythonchallenge.com/pc/def/linkedlist.php?nothing=60310\n",
      "197 http://www.pythonchallenge.com/pc/def/linkedlist.php?nothing=19178\n",
      "198 http://www.pythonchallenge.com/pc/def/linkedlist.php?nothing=44671\n",
      "199 http://www.pythonchallenge.com/pc/def/linkedlist.php?nothing=45736\n",
      "200 http://www.pythonchallenge.com/pc/def/linkedlist.php?nothing=9216\n",
      "201 http://www.pythonchallenge.com/pc/def/linkedlist.php?nothing=12585\n",
      "202 http://www.pythonchallenge.com/pc/def/linkedlist.php?nothing=11302\n",
      "203 http://www.pythonchallenge.com/pc/def/linkedlist.php?nothing=33096\n",
      "204 http://www.pythonchallenge.com/pc/def/linkedlist.php?nothing=13967\n",
      "205 http://www.pythonchallenge.com/pc/def/linkedlist.php?nothing=57004\n",
      "206 http://www.pythonchallenge.com/pc/def/linkedlist.php?nothing=64196\n",
      "207 http://www.pythonchallenge.com/pc/def/linkedlist.php?nothing=73929\n",
      "208 http://www.pythonchallenge.com/pc/def/linkedlist.php?nothing=24800\n",
      "209 http://www.pythonchallenge.com/pc/def/linkedlist.php?nothing=25081\n",
      "210 http://www.pythonchallenge.com/pc/def/linkedlist.php?nothing=90033\n",
      "211 http://www.pythonchallenge.com/pc/def/linkedlist.php?nothing=45919\n",
      "212 http://www.pythonchallenge.com/pc/def/linkedlist.php?nothing=54827\n",
      "213 http://www.pythonchallenge.com/pc/def/linkedlist.php?nothing=73950\n",
      "214 http://www.pythonchallenge.com/pc/def/linkedlist.php?nothing=56978\n",
      "215 http://www.pythonchallenge.com/pc/def/linkedlist.php?nothing=8133\n",
      "216 http://www.pythonchallenge.com/pc/def/linkedlist.php?nothing=61900\n",
      "217 http://www.pythonchallenge.com/pc/def/linkedlist.php?nothing=47769\n",
      "218 http://www.pythonchallenge.com/pc/def/linkedlist.php?nothing=631\n",
      "219 http://www.pythonchallenge.com/pc/def/linkedlist.php?nothing=2284\n",
      "220 http://www.pythonchallenge.com/pc/def/linkedlist.php?nothing=60074\n",
      "221 http://www.pythonchallenge.com/pc/def/linkedlist.php?nothing=35959\n",
      "222 http://www.pythonchallenge.com/pc/def/linkedlist.php?nothing=57158\n",
      "223 http://www.pythonchallenge.com/pc/def/linkedlist.php?nothing=90990\n",
      "224 http://www.pythonchallenge.com/pc/def/linkedlist.php?nothing=27935\n",
      "225 http://www.pythonchallenge.com/pc/def/linkedlist.php?nothing=99927\n",
      "226 http://www.pythonchallenge.com/pc/def/linkedlist.php?nothing=41785\n",
      "227 http://www.pythonchallenge.com/pc/def/linkedlist.php?nothing=32660\n",
      "228 http://www.pythonchallenge.com/pc/def/linkedlist.php?nothing=4328\n",
      "229 http://www.pythonchallenge.com/pc/def/linkedlist.php?nothing=42067\n",
      "230 http://www.pythonchallenge.com/pc/def/linkedlist.php?nothing=8743\n",
      "231 http://www.pythonchallenge.com/pc/def/linkedlist.php?nothing=38613\n",
      "232 http://www.pythonchallenge.com/pc/def/linkedlist.php?nothing=21100\n",
      "233 http://www.pythonchallenge.com/pc/def/linkedlist.php?nothing=77864\n",
      "234 http://www.pythonchallenge.com/pc/def/linkedlist.php?nothing=6523\n",
      "235 http://www.pythonchallenge.com/pc/def/linkedlist.php?nothing=6927\n",
      "236 http://www.pythonchallenge.com/pc/def/linkedlist.php?nothing=82930\n",
      "237 http://www.pythonchallenge.com/pc/def/linkedlist.php?nothing=35846\n",
      "238 http://www.pythonchallenge.com/pc/def/linkedlist.php?nothing=31785\n",
      "239 http://www.pythonchallenge.com/pc/def/linkedlist.php?nothing=41846\n",
      "240 http://www.pythonchallenge.com/pc/def/linkedlist.php?nothing=72387\n",
      "241 http://www.pythonchallenge.com/pc/def/linkedlist.php?nothing=59334\n",
      "242 http://www.pythonchallenge.com/pc/def/linkedlist.php?nothing=65520\n",
      "243 http://www.pythonchallenge.com/pc/def/linkedlist.php?nothing=93781\n",
      "244 http://www.pythonchallenge.com/pc/def/linkedlist.php?nothing=55840\n",
      "245 http://www.pythonchallenge.com/pc/def/linkedlist.php?nothing=80842\n",
      "246 http://www.pythonchallenge.com/pc/def/linkedlist.php?nothing=59022\n",
      "247 http://www.pythonchallenge.com/pc/def/linkedlist.php?nothing=23298\n",
      "248 http://www.pythonchallenge.com/pc/def/linkedlist.php?nothing=27709\n",
      "249 http://www.pythonchallenge.com/pc/def/linkedlist.php?nothing=96791\n",
      "250 http://www.pythonchallenge.com/pc/def/linkedlist.php?nothing=75635\n",
      "251 http://www.pythonchallenge.com/pc/def/linkedlist.php?nothing=52899\n",
      "252 http://www.pythonchallenge.com/pc/def/linkedlist.php?nothing=66831\n"
     ]
    }
   ],
   "source": [
    "while True:\n",
    "    print(i, url)\n",
    "    i = i + 1\n",
    "    r = requests.get(url)\n",
    "    next_nothing = re.search(r'\\d+', r.text)\n",
    "    if not next_nothing:\n",
    "        break\n",
    "    url = base_url + next_nothing.group()"
   ]
  },
  {
   "cell_type": "code",
   "execution_count": 22,
   "metadata": {},
   "outputs": [
    {
     "data": {
      "text/plain": [
       "'http://www.pythonchallenge.com/pc/def/linkedlist.php?nothing=66831'"
      ]
     },
     "execution_count": 22,
     "metadata": {},
     "output_type": "execute_result"
    }
   ],
   "source": [
    "url"
   ]
  },
  {
   "cell_type": "code",
   "execution_count": 23,
   "metadata": {},
   "outputs": [],
   "source": [
    "r = requests.get(url)"
   ]
  },
  {
   "cell_type": "code",
   "execution_count": 24,
   "metadata": {},
   "outputs": [
    {
     "data": {
      "text/plain": [
       "'peak.html'"
      ]
     },
     "execution_count": 24,
     "metadata": {},
     "output_type": "execute_result"
    }
   ],
   "source": [
    "r.text"
   ]
  },
  {
   "cell_type": "markdown",
   "metadata": {},
   "source": [
    "***```next url: http://www.pythonchallenge.com/pc/def/peak.html```***"
   ]
  }
 ],
 "metadata": {
  "kernelspec": {
   "display_name": "Python 3",
   "language": "python",
   "name": "python3"
  },
  "language_info": {
   "codemirror_mode": {
    "name": "ipython",
    "version": 3
   },
   "file_extension": ".py",
   "mimetype": "text/x-python",
   "name": "python",
   "nbconvert_exporter": "python",
   "pygments_lexer": "ipython3",
   "version": "3.6.4"
  }
 },
 "nbformat": 4,
 "nbformat_minor": 2
}
