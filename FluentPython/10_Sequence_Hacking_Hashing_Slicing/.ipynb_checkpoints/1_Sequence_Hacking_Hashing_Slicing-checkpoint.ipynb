{
 "cells": [
  {
   "cell_type": "markdown",
   "metadata": {},
   "source": [
    "# 序列的修改、散列、切片"
   ]
  },
  {
   "cell_type": "markdown",
   "metadata": {},
   "source": [
    "*在 “符号Python风格对象” 中的二维向量类型的基础，扩展n维向量，并实现基本的序列协议、切片等*"
   ]
  },
  {
   "cell_type": "markdown",
   "metadata": {},
   "source": [
    "> **基本的序列协议： `__len__`, `__getitem__`**"
   ]
  },
  {
   "cell_type": "markdown",
   "metadata": {},
   "source": [
    "## 1、多维Vector类"
   ]
  },
  {
   "cell_type": "markdown",
   "metadata": {},
   "source": [
    "> 序列类型的构造方法最好接受可迭代对象作为参数（内置序列类型均是如此）"
   ]
  },
  {
   "cell_type": "code",
   "execution_count": 1,
   "metadata": {},
   "outputs": [],
   "source": [
    "from array import array\n",
    "import reprlib\n",
    "import math\n",
    "\n",
    "class Vector:\n",
    "    typecode = 'd'\n",
    "    \n",
    "    def __init__(self, components):\n",
    "        self._components = array(self.typecode, components)\n",
    "        \n",
    "    def __iter__(self):\n",
    "        return iter(self._components)\n",
    "    \n",
    "    def __repr__(self):\n",
    "        components = reprlib.repr(self._components)   # array的字符串表现形式如 array([1, 2, ...])\n",
    "        components = components[components.find('['):-1]\n",
    "        return 'Vector({})'.format(components)\n",
    "    \n",
    "    def __str__(self):\n",
    "        return str(tuple(self))\n",
    "    \n",
    "    def __bytes__(self):\n",
    "        return bytes([ord(self.typecode)]) + bytes(self._components)\n",
    "    \n",
    "    def __eq__(self, other):\n",
    "        return tuple(self) == tuple(other)\n",
    "    \n",
    "    def __abs__(self):\n",
    "        return math.sqrt(sum(x ** 2 for x in self))\n",
    "    \n",
    "    def __bool__(self):\n",
    "        return bool(abs(self))\n",
    "    \n",
    "    @classmethod\n",
    "    def frombytes(cls, octets):\n",
    "        typecode = chr(octets[0])\n",
    "        memv = memoryview(octets[1:]).cast(typecode)\n",
    "        return cls(memv)"
   ]
  },
  {
   "cell_type": "markdown",
   "metadata": {},
   "source": [
    "- `reprlib.repr()` 方法可以获取有限长度的表现形式"
   ]
  },
  {
   "cell_type": "code",
   "execution_count": 2,
   "metadata": {},
   "outputs": [
    {
     "name": "stdout",
     "output_type": "stream",
     "text": [
      "(1.0, 2.0, 3.0)\n"
     ]
    }
   ],
   "source": [
    "v1 = Vector([1, 2, 3])\n",
    "print(v1)"
   ]
  },
  {
   "cell_type": "code",
   "execution_count": 3,
   "metadata": {},
   "outputs": [
    {
     "data": {
      "text/plain": [
       "Vector([0.0, 1.0, 2.0, 3.0, 4.0, ...])"
      ]
     },
     "execution_count": 3,
     "metadata": {},
     "output_type": "execute_result"
    }
   ],
   "source": [
    "Vector(range(10))"
   ]
  },
  {
   "cell_type": "code",
   "execution_count": 4,
   "metadata": {},
   "outputs": [
    {
     "data": {
      "text/plain": [
       "Vector([1.0, 2.0, 3.0])"
      ]
     },
     "execution_count": 4,
     "metadata": {},
     "output_type": "execute_result"
    }
   ],
   "source": [
    "Vector.frombytes(bytes(v1))"
   ]
  },
  {
   "cell_type": "markdown",
   "metadata": {},
   "source": [
    "## 2、协议和鸭子类型"
   ]
  },
  {
   "cell_type": "markdown",
   "metadata": {},
   "source": [
    "> Python 中创建功能完善的序列类型无需使用继承，只需实现符合**序列协议**的方法，行为像序列那么它就是序列，即鸭子类型。   \n",
    "> OOP 中，协议是非正式的接口，只有在文档中定义，在代码中不定义。    \n",
    "> Python 的序列协议只需要 `__len__` 和 `__getitem__` 两个方法。"
   ]
  },
  {
   "cell_type": "markdown",
   "metadata": {},
   "source": [
    "## 3、可切片的序列 Vector类"
   ]
  },
  {
   "cell_type": "markdown",
   "metadata": {},
   "source": [
    "简单地，只需在 Vector 类中实现 `__len__` 和 `__getitem__` 两个方法，委托给对象中的序列属性。   \n",
    "```\n",
    "def __len__(self):\n",
    "    return len(self._components)\n",
    "\n",
    "def __getitem__(self, index):\n",
    "    return self._components[index]\n",
    "```    \n",
    "\n",
    "但是这样做有欠缺，得到的切片不是Vector类型，而是数组。    \n",
    "内置的序列类型，**切片得到的都是各自类型的新实例**，所以这里不能简单地委托给数组切片。"
   ]
  },
  {
   "cell_type": "markdown",
   "metadata": {},
   "source": [
    "### 3.1 切片原理"
   ]
  },
  {
   "cell_type": "code",
   "execution_count": 5,
   "metadata": {},
   "outputs": [],
   "source": [
    "class MySeq:\n",
    "    def __getitem__(self, index):\n",
    "        return index"
   ]
  },
  {
   "cell_type": "code",
   "execution_count": 6,
   "metadata": {},
   "outputs": [],
   "source": [
    "s = MySeq()"
   ]
  },
  {
   "cell_type": "code",
   "execution_count": 7,
   "metadata": {},
   "outputs": [
    {
     "data": {
      "text/plain": [
       "1"
      ]
     },
     "execution_count": 7,
     "metadata": {},
     "output_type": "execute_result"
    }
   ],
   "source": [
    "s[1]"
   ]
  },
  {
   "cell_type": "code",
   "execution_count": 8,
   "metadata": {},
   "outputs": [
    {
     "data": {
      "text/plain": [
       "slice(1, 4, None)"
      ]
     },
     "execution_count": 8,
     "metadata": {},
     "output_type": "execute_result"
    }
   ],
   "source": [
    "s[1:4]"
   ]
  },
  {
   "cell_type": "code",
   "execution_count": 9,
   "metadata": {},
   "outputs": [
    {
     "data": {
      "text/plain": [
       "slice(1, 4, 2)"
      ]
     },
     "execution_count": 9,
     "metadata": {},
     "output_type": "execute_result"
    }
   ],
   "source": [
    "s[1:4:2]"
   ]
  },
  {
   "cell_type": "markdown",
   "metadata": {},
   "source": [
    "多维索引"
   ]
  },
  {
   "cell_type": "code",
   "execution_count": 10,
   "metadata": {},
   "outputs": [
    {
     "data": {
      "text/plain": [
       "(slice(1, 4, 2), 9)"
      ]
     },
     "execution_count": 10,
     "metadata": {},
     "output_type": "execute_result"
    }
   ],
   "source": [
    "s[1:4:2, 9]"
   ]
  },
  {
   "cell_type": "code",
   "execution_count": 11,
   "metadata": {},
   "outputs": [
    {
     "data": {
      "text/plain": [
       "(slice(1, 4, 2), slice(7, 9, None))"
      ]
     },
     "execution_count": 11,
     "metadata": {},
     "output_type": "execute_result"
    }
   ],
   "source": [
    "s[1:4:2, 7:9]"
   ]
  },
  {
   "cell_type": "markdown",
   "metadata": {},
   "source": [
    "**`slice`**"
   ]
  },
  {
   "cell_type": "code",
   "execution_count": 12,
   "metadata": {},
   "outputs": [
    {
     "data": {
      "text/plain": [
       "['__class__',\n",
       " '__delattr__',\n",
       " '__dir__',\n",
       " '__doc__',\n",
       " '__eq__',\n",
       " '__format__',\n",
       " '__ge__',\n",
       " '__getattribute__',\n",
       " '__gt__',\n",
       " '__hash__',\n",
       " '__init__',\n",
       " '__init_subclass__',\n",
       " '__le__',\n",
       " '__lt__',\n",
       " '__ne__',\n",
       " '__new__',\n",
       " '__reduce__',\n",
       " '__reduce_ex__',\n",
       " '__repr__',\n",
       " '__setattr__',\n",
       " '__sizeof__',\n",
       " '__str__',\n",
       " '__subclasshook__',\n",
       " 'indices',\n",
       " 'start',\n",
       " 'step',\n",
       " 'stop']"
      ]
     },
     "execution_count": 12,
     "metadata": {},
     "output_type": "execute_result"
    }
   ],
   "source": [
    "dir(slice)"
   ]
  },
  {
   "cell_type": "markdown",
   "metadata": {},
   "source": [
    "`slice` 是内置的类型，其中 `indices` 方法，对于长度为 len 的序列，用于处理缺失索引、负数索引、长度超过目标序列的切片。   \n",
    "> 如果没有底层序列类型作为依靠，使用 `indices` 方法能节省大量时间"
   ]
  },
  {
   "cell_type": "code",
   "execution_count": 13,
   "metadata": {},
   "outputs": [
    {
     "name": "stdout",
     "output_type": "stream",
     "text": [
      "Help on method_descriptor:\n",
      "\n",
      "indices(...)\n",
      "    S.indices(len) -> (start, stop, stride)\n",
      "    \n",
      "    Assuming a sequence of length len, calculate the start and stop\n",
      "    indices, and the stride length of the extended slice described by\n",
      "    S. Out of bounds indices are clipped in a manner consistent with the\n",
      "    handling of normal slices.\n",
      "\n"
     ]
    }
   ],
   "source": [
    "help(slice.indices)"
   ]
  },
  {
   "cell_type": "code",
   "execution_count": 14,
   "metadata": {},
   "outputs": [
    {
     "data": {
      "text/plain": [
       "(0, 5, 2)"
      ]
     },
     "execution_count": 14,
     "metadata": {},
     "output_type": "execute_result"
    }
   ],
   "source": [
    "# 'ABCDE'[:10:2] <==> 'ABCDE'[0:5:2] \n",
    "slice(None, 10, 2).indices(5)"
   ]
  },
  {
   "cell_type": "code",
   "execution_count": 15,
   "metadata": {},
   "outputs": [
    {
     "data": {
      "text/plain": [
       "(2, 5, 1)"
      ]
     },
     "execution_count": 15,
     "metadata": {},
     "output_type": "execute_result"
    }
   ],
   "source": [
    "# 'ABCDE'[-3:] <==> 'ABCDE'[2:5:1]\n",
    "slice(-3, None, None).indices(5)"
   ]
  },
  {
   "cell_type": "markdown",
   "metadata": {},
   "source": [
    "### 3.2 处理切片的 `__getitem__` 方法"
   ]
  },
  {
   "cell_type": "code",
   "execution_count": 16,
   "metadata": {},
   "outputs": [],
   "source": [
    "import numbers\n",
    "\n",
    "def __getitem__(self, index):\n",
    "    cls = type(self)\n",
    "    # 切片索引，创建一个新 Vector 实例\n",
    "    if isinstance(index, slice):\n",
    "        return cls(self._components[index])\n",
    "    # 单个索引，只取一个分量\n",
    "    elif isinstance(index, numbers.Integral):\n",
    "        return self._components[index]\n",
    "    # 不支持多维索引\n",
    "    else:\n",
    "        msg = '{cls.__name__} indices must be integers'\n",
    "        raise TypeError(msg.format(cls=cls))"
   ]
  },
  {
   "cell_type": "markdown",
   "metadata": {},
   "source": [
    "***完整代码和测试最后给出***"
   ]
  },
  {
   "cell_type": "markdown",
   "metadata": {},
   "source": [
    "## 4、动态存取属性"
   ]
  },
  {
   "cell_type": "markdown",
   "metadata": {},
   "source": [
    "目的：通过特定的名称访问向量的分量，如 `v.x` 代表 `v[0]`    \n",
    "- `@property` 装饰器可以绑定新特性，但是要实现多个属性较麻烦。    \n",
    "- `__getattr__` 特殊方法，接收属性名称的字符串形式，当属性查找失败，便会调用改方法。**仅当对象没有指定名称的属性时，才会被调用，是一种后备机制**（备胎？）"
   ]
  },
  {
   "cell_type": "code",
   "execution_count": 17,
   "metadata": {},
   "outputs": [],
   "source": [
    "# Vector 类中新增类属性 shortcut_names 和特殊方法 __getattr__\n",
    "\n",
    "shortcut_names = 'xyzt'   # 四个字母分别代表序列的前四个元素\n",
    "\n",
    "def __getattr__(self, name):\n",
    "    cls = type(self)\n",
    "    if len(name) == 1:\n",
    "        pos = cls.shortcut_names.find(name)\n",
    "        if 0 <= pos < len(self._components):\n",
    "            return self._components[pos]\n",
    "    msg = '{.__name__!r} object has no attribute {!r}'\n",
    "    raise AttributeError(msg.format(cls, name))"
   ]
  },
  {
   "cell_type": "markdown",
   "metadata": {},
   "source": [
    "如果对 xyzt 中的一个属性赋值，会导致对象拥有该属性，导致矛盾，所以应对单小写字母属性赋值需要抛出异常"
   ]
  },
  {
   "cell_type": "code",
   "execution_count": 18,
   "metadata": {},
   "outputs": [],
   "source": [
    "# Vector 类中新增特殊方法 __setattr__\n",
    "\n",
    "def __setattr__(self, name, value):\n",
    "    cls = type(self)\n",
    "    \n",
    "    if len(name) == 1:\n",
    "        if name in cls.shortcut_names:\n",
    "            error = 'readonly attribute {attr_name!r}'\n",
    "        elif name.islower():\n",
    "            error = \"cant't set attributes 'a' to 'z' in {cls_name!r}\"\n",
    "        else:\n",
    "            error = ''\n",
    "        if error:\n",
    "            msg = error.format(attr_name=name, cls_name=cls.__name__)\n",
    "            raise AttributeError(msg)\n",
    "    super().__setattr__(name, value)"
   ]
  },
  {
   "cell_type": "markdown",
   "metadata": {},
   "source": [
    "> `super()` 用于动态访问超类的方法，把子类方法的某些任务委托给超类中的适当方法（多重继承导致 `super()` 的诞生）"
   ]
  },
  {
   "cell_type": "markdown",
   "metadata": {},
   "source": [
    "**为了防止对象行为不一致，如果实现了 `__getattr__` 方法，也要实现 `__setattr__` 方法**"
   ]
  },
  {
   "cell_type": "markdown",
   "metadata": {},
   "source": [
    "***完整代码和测试最后给出***"
   ]
  },
  {
   "cell_type": "markdown",
   "metadata": {},
   "source": [
    "## 5、散列和快速等值"
   ]
  },
  {
   "cell_type": "markdown",
   "metadata": {},
   "source": [
    "可散列需要实现 `__eq__` 和 `__hash__` 方法，前者已经实现，后者返回所有分量的散列值异或，使用 `reduce()` 方法。    \n",
    "PS：`reduce()` 方法最好提供第三个参数，即归约的初始值，这样序列为空不会出现异常，而是返回该初始值；异或可以使用 `operator` 模块中的 `xor` 方法，避免使用 `lambda` 表达式，`operator` 模块以函数的形式提供了 Python 中的全部中缀运算符"
   ]
  },
  {
   "cell_type": "code",
   "execution_count": 19,
   "metadata": {},
   "outputs": [],
   "source": [
    "# Vector 类中新增 __hash__ 方法\n",
    "\n",
    "from functools import reduce\n",
    "import operator\n",
    "\n",
    "# 映射归约\n",
    "def __hash__(self):\n",
    "    hashes = (hash(x) for x in self._components)  # hashes = map(hash, self._components)  惰性，按需产出值\n",
    "    return reduce(operator.xor, hashes, 0)"
   ]
  },
  {
   "cell_type": "markdown",
   "metadata": {},
   "source": [
    "已实现的 `__eq__` 方法是将任务委托给 `tuple`，这在 Vector 分量很多时效率很低，所以重写一个效率较高的等值方法"
   ]
  },
  {
   "cell_type": "code",
   "execution_count": 20,
   "metadata": {},
   "outputs": [],
   "source": [
    "def __eq__(self, other):\n",
    "    if len(self) != len(other):\n",
    "        return False\n",
    "    for a, b in zip(self, other):\n",
    "        if a != b:\n",
    "            return False\n",
    "    return True\n",
    "\n",
    "# 或者可以用 all 方法进行归约\n",
    "def __eq__(self, other):\n",
    "    return len(self) == len(other) and all(a == b for a, b in zip(self, other))"
   ]
  },
  {
   "cell_type": "markdown",
   "metadata": {},
   "source": [
    "***完整代码和测试最后给出***"
   ]
  },
  {
   "cell_type": "markdown",
   "metadata": {},
   "source": [
    "## 6、格式化"
   ]
  },
  {
   "cell_type": "markdown",
   "metadata": {},
   "source": [
    "自定义格式代码 'h'（避免重用内置类型支持的格式代码），重写 `__format__` 方法。与二维的极坐标类似，该自定义格式返回对象的超球体坐标（`<r, angle1, angle2, ...>`）"
   ]
  },
  {
   "cell_type": "code",
   "execution_count": 21,
   "metadata": {},
   "outputs": [],
   "source": [
    "# Vector 类中新增 __format__ 方法和辅助方法 angle 和 angles\n",
    "\n",
    "# 超球体某个角坐标\n",
    "def angle(self, n):\n",
    "    r = abs(self)\n",
    "    a = math.atan2(r, self[n-1])\n",
    "    if n == len(self) - 1 and self[-1] < 0:\n",
    "        return math.pi * 2 - a\n",
    "    return a\n",
    "\n",
    "def angles(self):\n",
    "    return (self.angle(n) for n in range(1, len(self)))\n",
    "\n",
    "def __format__(self, fmt_spec=''):\n",
    "    if fmt_spec.endswith('h'):\n",
    "        fmt_spec = fmt_spec[:-1]\n",
    "        coords = itertools.chain([abs(self)], self.angles())\n",
    "        outer_fmt = '<{}>'\n",
    "    else:\n",
    "        coords = self\n",
    "        outer_fmt = '({})'\n",
    "    components = (format(c, fmt_spec) for c in coords)\n",
    "    return outer_fmt.format(', '.join(components))"
   ]
  },
  {
   "cell_type": "markdown",
   "metadata": {},
   "source": [
    "***完整代码和测试最后给出***"
   ]
  },
  {
   "cell_type": "markdown",
   "metadata": {},
   "source": [
    "# 完整代码及测试"
   ]
  },
  {
   "cell_type": "code",
   "execution_count": 22,
   "metadata": {},
   "outputs": [],
   "source": [
    "from array import array\n",
    "import reprlib\n",
    "import functools\n",
    "import operator\n",
    "import math\n",
    "import numbers\n",
    "import itertools\n",
    "\n",
    "class Vector:\n",
    "    typecode = 'd'\n",
    "    shortcut_names = 'xyzt'\n",
    "\n",
    "    def __init__(self, components):\n",
    "        self._components = array(self.typecode, components)\n",
    "\n",
    "    def __iter__(self):\n",
    "        return iter(self._components)\n",
    "\n",
    "    def __repr__(self):\n",
    "        components = reprlib.repr(self._components)\n",
    "        components = components[components.find('['):-1]\n",
    "        return 'Vector({})'.format(components)\n",
    "\n",
    "    def __str__(self):\n",
    "        return str(tuple(self))\n",
    "\n",
    "    def __bytes__(self):\n",
    "        return bytes([ord(self.typecode)]) + bytes(self._components)\n",
    "\n",
    "    def __eq__(self, other):\n",
    "        return len(self) == len(other) and all(a == b for a, b in zip(self, other))\n",
    "\n",
    "    def __hash__(self):\n",
    "        hashes = (hash(x) for x in self)\n",
    "        return functools.reduce(operator.xor, hashes, 0)\n",
    "\n",
    "    def __abs__(self):\n",
    "        return math.sqrt(sum(x * x for x in self))\n",
    "\n",
    "    def __bool__(self):\n",
    "        return bool(abs(self))\n",
    "\n",
    "    def __len__(self):\n",
    "        return len(self._components)\n",
    "\n",
    "    def __getitem__(self, index):\n",
    "        cls = type(self)\n",
    "        if isinstance(index, slice):\n",
    "            return cls(self._components[index])\n",
    "        elif isinstance(index, numbers.Integral):\n",
    "            return self._components[index]\n",
    "        else:\n",
    "            msg = '{.__name__} indices must be integers'\n",
    "            raise TypeError(msg.format(cls))\n",
    "\n",
    "    def __getattr__(self, name):\n",
    "        cls = type(self)\n",
    "        if len(name) == 1:\n",
    "            pos = cls.shortcut_names.find(name)\n",
    "            if 0 <= pos < len(self._components):\n",
    "                return self._components[pos]\n",
    "        msg = '{.__name__!r} objects has no attribute {!r}'\n",
    "        raise AttributeError(msg.format(cls, name))\n",
    "\n",
    "    def __setattr__(self, name, value):\n",
    "        cls = type(self)\n",
    "        if len(name) == 1:\n",
    "            if name in cls.shortcut_names:\n",
    "                error = 'readonly attribute {attr_name!r}'\n",
    "            elif name.islower():\n",
    "                error = \"can't set attributes 'a' to 'z' in {cls_name!r}\"\n",
    "            else:\n",
    "                error = ''\n",
    "            if error:\n",
    "                msg = error.format(cls_name=cls.__name__, attr_name=name)\n",
    "                raise AttributeError(msg)\n",
    "        super().__setattr__(name, value)\n",
    "\n",
    "    def angle(self, n):\n",
    "        r = abs(self)\n",
    "        a = math.atan2(r, self[n-1])\n",
    "        if n == len(self) - 1 and self[-1] < 0:\n",
    "            return math.pi * 2 - a\n",
    "        return a\n",
    "\n",
    "    def angles(self):\n",
    "        return (self.angle(n) for n in range(1, len(self)))\n",
    "\n",
    "    def __format__(self, fmt_spec=''):\n",
    "        if fmt_spec.endswith('h'):\n",
    "            fmt_spec = fmt_spec[:-1]\n",
    "            coords = itertools.chain([abs(self)], self.angles())\n",
    "            outer_fmt = '<{}>'\n",
    "        else:\n",
    "            coords = self\n",
    "            outer_fmt = '({})'\n",
    "        components = (format(c, fmt_spec) for c in coords)\n",
    "        return outer_fmt.format(', '.join(components))\n",
    "\n",
    "    @classmethod\n",
    "    def frombytes(cls, octets):\n",
    "        typecode = chr(octets[0])\n",
    "        memv = memoryview(octets[1:]).cast(typecode)\n",
    "        return cls(memv)"
   ]
  },
  {
   "cell_type": "markdown",
   "metadata": {},
   "source": [
    "### 1. 实例化测试"
   ]
  },
  {
   "cell_type": "code",
   "execution_count": 23,
   "metadata": {
    "scrolled": true
   },
   "outputs": [
    {
     "data": {
      "text/plain": [
       "Vector([3.1, 4.2])"
      ]
     },
     "execution_count": 23,
     "metadata": {},
     "output_type": "execute_result"
    }
   ],
   "source": [
    "Vector([3.1, 4.2])"
   ]
  },
  {
   "cell_type": "code",
   "execution_count": 24,
   "metadata": {},
   "outputs": [
    {
     "data": {
      "text/plain": [
       "Vector([3.0, 4.0, 5.0])"
      ]
     },
     "execution_count": 24,
     "metadata": {},
     "output_type": "execute_result"
    }
   ],
   "source": [
    "Vector([3, 4, 5])"
   ]
  },
  {
   "cell_type": "code",
   "execution_count": 25,
   "metadata": {},
   "outputs": [
    {
     "data": {
      "text/plain": [
       "Vector([0.0, 1.0, 2.0, 3.0, 4.0, ...])"
      ]
     },
     "execution_count": 25,
     "metadata": {},
     "output_type": "execute_result"
    }
   ],
   "source": [
    "Vector(range(10))"
   ]
  },
  {
   "cell_type": "markdown",
   "metadata": {},
   "source": [
    "### 2. 二维向量测试"
   ]
  },
  {
   "cell_type": "code",
   "execution_count": 26,
   "metadata": {},
   "outputs": [
    {
     "data": {
      "text/plain": [
       "(3.0, 4.0)"
      ]
     },
     "execution_count": 26,
     "metadata": {},
     "output_type": "execute_result"
    }
   ],
   "source": [
    "v1 = Vector([3, 4])\n",
    "x, y = v1\n",
    "x, y"
   ]
  },
  {
   "cell_type": "code",
   "execution_count": 27,
   "metadata": {},
   "outputs": [
    {
     "data": {
      "text/plain": [
       "Vector([3.0, 4.0])"
      ]
     },
     "execution_count": 27,
     "metadata": {},
     "output_type": "execute_result"
    }
   ],
   "source": [
    "v1"
   ]
  },
  {
   "cell_type": "code",
   "execution_count": 28,
   "metadata": {},
   "outputs": [
    {
     "data": {
      "text/plain": [
       "True"
      ]
     },
     "execution_count": 28,
     "metadata": {},
     "output_type": "execute_result"
    }
   ],
   "source": [
    "v1_clone = eval(repr(v1))\n",
    "v1 == v1_clone"
   ]
  },
  {
   "cell_type": "code",
   "execution_count": 29,
   "metadata": {},
   "outputs": [
    {
     "name": "stdout",
     "output_type": "stream",
     "text": [
      "(3.0, 4.0)\n"
     ]
    }
   ],
   "source": [
    "print(v1)"
   ]
  },
  {
   "cell_type": "code",
   "execution_count": 30,
   "metadata": {},
   "outputs": [
    {
     "data": {
      "text/plain": [
       "b'd\\x00\\x00\\x00\\x00\\x00\\x00\\x08@\\x00\\x00\\x00\\x00\\x00\\x00\\x10@'"
      ]
     },
     "execution_count": 30,
     "metadata": {},
     "output_type": "execute_result"
    }
   ],
   "source": [
    "octets = bytes(v1)\n",
    "octets"
   ]
  },
  {
   "cell_type": "code",
   "execution_count": 31,
   "metadata": {},
   "outputs": [
    {
     "data": {
      "text/plain": [
       "5.0"
      ]
     },
     "execution_count": 31,
     "metadata": {},
     "output_type": "execute_result"
    }
   ],
   "source": [
    "abs(v1)"
   ]
  },
  {
   "cell_type": "code",
   "execution_count": 32,
   "metadata": {},
   "outputs": [
    {
     "data": {
      "text/plain": [
       "(True, False)"
      ]
     },
     "execution_count": 32,
     "metadata": {},
     "output_type": "execute_result"
    }
   ],
   "source": [
    "bool(v1), bool(Vector([0, 0]))"
   ]
  },
  {
   "cell_type": "markdown",
   "metadata": {},
   "source": [
    "### 3. 三维向量测试"
   ]
  },
  {
   "cell_type": "code",
   "execution_count": 33,
   "metadata": {},
   "outputs": [
    {
     "data": {
      "text/plain": [
       "(3.0, 4.0, 5.0)"
      ]
     },
     "execution_count": 33,
     "metadata": {},
     "output_type": "execute_result"
    }
   ],
   "source": [
    "v1 = Vector([3, 4, 5])\n",
    "x, y, z = v1\n",
    "x, y, z"
   ]
  },
  {
   "cell_type": "code",
   "execution_count": 34,
   "metadata": {},
   "outputs": [
    {
     "data": {
      "text/plain": [
       "Vector([3.0, 4.0, 5.0])"
      ]
     },
     "execution_count": 34,
     "metadata": {},
     "output_type": "execute_result"
    }
   ],
   "source": [
    "v1"
   ]
  },
  {
   "cell_type": "code",
   "execution_count": 35,
   "metadata": {},
   "outputs": [
    {
     "data": {
      "text/plain": [
       "True"
      ]
     },
     "execution_count": 35,
     "metadata": {},
     "output_type": "execute_result"
    }
   ],
   "source": [
    "v1_clone = eval(repr(v1))\n",
    "v1 == v1_clone"
   ]
  },
  {
   "cell_type": "code",
   "execution_count": 36,
   "metadata": {},
   "outputs": [
    {
     "name": "stdout",
     "output_type": "stream",
     "text": [
      "(3.0, 4.0, 5.0)\n"
     ]
    }
   ],
   "source": [
    "print(v1)"
   ]
  },
  {
   "cell_type": "code",
   "execution_count": 37,
   "metadata": {},
   "outputs": [
    {
     "data": {
      "text/plain": [
       "7.0710678118654755"
      ]
     },
     "execution_count": 37,
     "metadata": {},
     "output_type": "execute_result"
    }
   ],
   "source": [
    "abs(v1)"
   ]
  },
  {
   "cell_type": "code",
   "execution_count": 38,
   "metadata": {},
   "outputs": [
    {
     "data": {
      "text/plain": [
       "(True, False)"
      ]
     },
     "execution_count": 38,
     "metadata": {},
     "output_type": "execute_result"
    }
   ],
   "source": [
    "bool(v1), bool(Vector([0, 0, 0]))"
   ]
  },
  {
   "cell_type": "markdown",
   "metadata": {},
   "source": [
    "### 4. 多维向量测试"
   ]
  },
  {
   "cell_type": "code",
   "execution_count": 39,
   "metadata": {},
   "outputs": [
    {
     "data": {
      "text/plain": [
       "Vector([0.0, 1.0, 2.0, 3.0, 4.0, ...])"
      ]
     },
     "execution_count": 39,
     "metadata": {},
     "output_type": "execute_result"
    }
   ],
   "source": [
    "v7 = Vector(range(7))\n",
    "v7"
   ]
  },
  {
   "cell_type": "markdown",
   "metadata": {},
   "source": [
    "### 5. 字节测试和字节构造方法测试"
   ]
  },
  {
   "cell_type": "code",
   "execution_count": 40,
   "metadata": {},
   "outputs": [
    {
     "data": {
      "text/plain": [
       "Vector([3.0, 4.0, 5.0])"
      ]
     },
     "execution_count": 40,
     "metadata": {},
     "output_type": "execute_result"
    }
   ],
   "source": [
    "v1 = Vector([3, 4, 5])\n",
    "v1_clone = Vector.frombytes(bytes(v1))\n",
    "v1_clone"
   ]
  },
  {
   "cell_type": "code",
   "execution_count": 41,
   "metadata": {},
   "outputs": [
    {
     "data": {
      "text/plain": [
       "True"
      ]
     },
     "execution_count": 41,
     "metadata": {},
     "output_type": "execute_result"
    }
   ],
   "source": [
    "v1 == v1_clone"
   ]
  },
  {
   "cell_type": "markdown",
   "metadata": {},
   "source": [
    "### 6. 序列测试（长度，索引，切片）"
   ]
  },
  {
   "cell_type": "code",
   "execution_count": 42,
   "metadata": {},
   "outputs": [
    {
     "data": {
      "text/plain": [
       "3"
      ]
     },
     "execution_count": 42,
     "metadata": {},
     "output_type": "execute_result"
    }
   ],
   "source": [
    "v1 = Vector([3, 4, 5])\n",
    "len(v1)"
   ]
  },
  {
   "cell_type": "code",
   "execution_count": 43,
   "metadata": {},
   "outputs": [
    {
     "data": {
      "text/plain": [
       "(3.0, 5.0, 5.0)"
      ]
     },
     "execution_count": 43,
     "metadata": {},
     "output_type": "execute_result"
    }
   ],
   "source": [
    "v1[0], v1[len(v1)-1], v1[-1]"
   ]
  },
  {
   "cell_type": "code",
   "execution_count": 44,
   "metadata": {},
   "outputs": [
    {
     "data": {
      "text/plain": [
       "6.0"
      ]
     },
     "execution_count": 44,
     "metadata": {},
     "output_type": "execute_result"
    }
   ],
   "source": [
    "v7 = Vector(range(7))\n",
    "v7[-1]"
   ]
  },
  {
   "cell_type": "code",
   "execution_count": 45,
   "metadata": {},
   "outputs": [
    {
     "data": {
      "text/plain": [
       "Vector([1.0, 2.0, 3.0])"
      ]
     },
     "execution_count": 45,
     "metadata": {},
     "output_type": "execute_result"
    }
   ],
   "source": [
    "v7[1:4]"
   ]
  },
  {
   "cell_type": "code",
   "execution_count": 46,
   "metadata": {},
   "outputs": [
    {
     "data": {
      "text/plain": [
       "Vector([6.0])"
      ]
     },
     "execution_count": 46,
     "metadata": {},
     "output_type": "execute_result"
    }
   ],
   "source": [
    "v7[-1:]"
   ]
  },
  {
   "cell_type": "code",
   "execution_count": 47,
   "metadata": {},
   "outputs": [
    {
     "ename": "TypeError",
     "evalue": "Vector indices must be integers",
     "output_type": "error",
     "traceback": [
      "\u001b[1;31m---------------------------------------------------------------------------\u001b[0m",
      "\u001b[1;31mTypeError\u001b[0m                                 Traceback (most recent call last)",
      "\u001b[1;32m<ipython-input-47-54e115c7e17b>\u001b[0m in \u001b[0;36m<module>\u001b[1;34m()\u001b[0m\n\u001b[1;32m----> 1\u001b[1;33m \u001b[0mv7\u001b[0m\u001b[1;33m[\u001b[0m\u001b[1;36m1\u001b[0m\u001b[1;33m,\u001b[0m \u001b[1;36m2\u001b[0m\u001b[1;33m]\u001b[0m\u001b[1;33m\u001b[0m\u001b[0m\n\u001b[0m",
      "\u001b[1;32m<ipython-input-22-677e1f3d7f64>\u001b[0m in \u001b[0;36m__getitem__\u001b[1;34m(self, index)\u001b[0m\n\u001b[0;32m     52\u001b[0m         \u001b[1;32melse\u001b[0m\u001b[1;33m:\u001b[0m\u001b[1;33m\u001b[0m\u001b[0m\n\u001b[0;32m     53\u001b[0m             \u001b[0mmsg\u001b[0m \u001b[1;33m=\u001b[0m \u001b[1;34m'{.__name__} indices must be integers'\u001b[0m\u001b[1;33m\u001b[0m\u001b[0m\n\u001b[1;32m---> 54\u001b[1;33m             \u001b[1;32mraise\u001b[0m \u001b[0mTypeError\u001b[0m\u001b[1;33m(\u001b[0m\u001b[0mmsg\u001b[0m\u001b[1;33m.\u001b[0m\u001b[0mformat\u001b[0m\u001b[1;33m(\u001b[0m\u001b[0mcls\u001b[0m\u001b[1;33m)\u001b[0m\u001b[1;33m)\u001b[0m\u001b[1;33m\u001b[0m\u001b[0m\n\u001b[0m\u001b[0;32m     55\u001b[0m \u001b[1;33m\u001b[0m\u001b[0m\n\u001b[0;32m     56\u001b[0m     \u001b[1;32mdef\u001b[0m \u001b[0m__getattr__\u001b[0m\u001b[1;33m(\u001b[0m\u001b[0mself\u001b[0m\u001b[1;33m,\u001b[0m \u001b[0mname\u001b[0m\u001b[1;33m)\u001b[0m\u001b[1;33m:\u001b[0m\u001b[1;33m\u001b[0m\u001b[0m\n",
      "\u001b[1;31mTypeError\u001b[0m: Vector indices must be integers"
     ]
    }
   ],
   "source": [
    "v7[1, 2]"
   ]
  },
  {
   "cell_type": "markdown",
   "metadata": {},
   "source": [
    "### 7. 动态属性测试"
   ]
  },
  {
   "cell_type": "code",
   "execution_count": 48,
   "metadata": {},
   "outputs": [
    {
     "data": {
      "text/plain": [
       "(0.0, 1.0, 2.0, 3.0)"
      ]
     },
     "execution_count": 48,
     "metadata": {},
     "output_type": "execute_result"
    }
   ],
   "source": [
    "v7 = Vector(range(10))\n",
    "v7.x,  v7.y,  v7.z,  v7.t"
   ]
  },
  {
   "cell_type": "code",
   "execution_count": 49,
   "metadata": {},
   "outputs": [
    {
     "ename": "AttributeError",
     "evalue": "'Vector' objects has no attribute 'k'",
     "output_type": "error",
     "traceback": [
      "\u001b[1;31m---------------------------------------------------------------------------\u001b[0m",
      "\u001b[1;31mAttributeError\u001b[0m                            Traceback (most recent call last)",
      "\u001b[1;32m<ipython-input-49-70ed3a6fcb8f>\u001b[0m in \u001b[0;36m<module>\u001b[1;34m()\u001b[0m\n\u001b[1;32m----> 1\u001b[1;33m \u001b[0mv7\u001b[0m\u001b[1;33m.\u001b[0m\u001b[0mk\u001b[0m\u001b[1;33m\u001b[0m\u001b[0m\n\u001b[0m",
      "\u001b[1;32m<ipython-input-22-677e1f3d7f64>\u001b[0m in \u001b[0;36m__getattr__\u001b[1;34m(self, name)\u001b[0m\n\u001b[0;32m     61\u001b[0m                 \u001b[1;32mreturn\u001b[0m \u001b[0mself\u001b[0m\u001b[1;33m.\u001b[0m\u001b[0m_components\u001b[0m\u001b[1;33m[\u001b[0m\u001b[0mpos\u001b[0m\u001b[1;33m]\u001b[0m\u001b[1;33m\u001b[0m\u001b[0m\n\u001b[0;32m     62\u001b[0m         \u001b[0mmsg\u001b[0m \u001b[1;33m=\u001b[0m \u001b[1;34m'{.__name__!r} objects has no attribute {!r}'\u001b[0m\u001b[1;33m\u001b[0m\u001b[0m\n\u001b[1;32m---> 63\u001b[1;33m         \u001b[1;32mraise\u001b[0m \u001b[0mAttributeError\u001b[0m\u001b[1;33m(\u001b[0m\u001b[0mmsg\u001b[0m\u001b[1;33m.\u001b[0m\u001b[0mformat\u001b[0m\u001b[1;33m(\u001b[0m\u001b[0mcls\u001b[0m\u001b[1;33m,\u001b[0m \u001b[0mname\u001b[0m\u001b[1;33m)\u001b[0m\u001b[1;33m)\u001b[0m\u001b[1;33m\u001b[0m\u001b[0m\n\u001b[0m\u001b[0;32m     64\u001b[0m \u001b[1;33m\u001b[0m\u001b[0m\n\u001b[0;32m     65\u001b[0m     \u001b[1;32mdef\u001b[0m \u001b[0m__setattr__\u001b[0m\u001b[1;33m(\u001b[0m\u001b[0mself\u001b[0m\u001b[1;33m,\u001b[0m \u001b[0mname\u001b[0m\u001b[1;33m,\u001b[0m \u001b[0mvalue\u001b[0m\u001b[1;33m)\u001b[0m\u001b[1;33m:\u001b[0m\u001b[1;33m\u001b[0m\u001b[0m\n",
      "\u001b[1;31mAttributeError\u001b[0m: 'Vector' objects has no attribute 'k'"
     ]
    }
   ],
   "source": [
    "v7.k"
   ]
  },
  {
   "cell_type": "code",
   "execution_count": 50,
   "metadata": {},
   "outputs": [
    {
     "ename": "AttributeError",
     "evalue": "readonly attribute 'x'",
     "output_type": "error",
     "traceback": [
      "\u001b[1;31m---------------------------------------------------------------------------\u001b[0m",
      "\u001b[1;31mAttributeError\u001b[0m                            Traceback (most recent call last)",
      "\u001b[1;32m<ipython-input-50-bd2e4daceec7>\u001b[0m in \u001b[0;36m<module>\u001b[1;34m()\u001b[0m\n\u001b[1;32m----> 1\u001b[1;33m \u001b[0mv7\u001b[0m\u001b[1;33m.\u001b[0m\u001b[0mx\u001b[0m \u001b[1;33m=\u001b[0m \u001b[1;36m2\u001b[0m\u001b[1;33m\u001b[0m\u001b[0m\n\u001b[0m",
      "\u001b[1;32m<ipython-input-22-677e1f3d7f64>\u001b[0m in \u001b[0;36m__setattr__\u001b[1;34m(self, name, value)\u001b[0m\n\u001b[0;32m     74\u001b[0m             \u001b[1;32mif\u001b[0m \u001b[0merror\u001b[0m\u001b[1;33m:\u001b[0m\u001b[1;33m\u001b[0m\u001b[0m\n\u001b[0;32m     75\u001b[0m                 \u001b[0mmsg\u001b[0m \u001b[1;33m=\u001b[0m \u001b[0merror\u001b[0m\u001b[1;33m.\u001b[0m\u001b[0mformat\u001b[0m\u001b[1;33m(\u001b[0m\u001b[0mcls_name\u001b[0m\u001b[1;33m=\u001b[0m\u001b[0mcls\u001b[0m\u001b[1;33m.\u001b[0m\u001b[0m__name__\u001b[0m\u001b[1;33m,\u001b[0m \u001b[0mattr_name\u001b[0m\u001b[1;33m=\u001b[0m\u001b[0mname\u001b[0m\u001b[1;33m)\u001b[0m\u001b[1;33m\u001b[0m\u001b[0m\n\u001b[1;32m---> 76\u001b[1;33m                 \u001b[1;32mraise\u001b[0m \u001b[0mAttributeError\u001b[0m\u001b[1;33m(\u001b[0m\u001b[0mmsg\u001b[0m\u001b[1;33m)\u001b[0m\u001b[1;33m\u001b[0m\u001b[0m\n\u001b[0m\u001b[0;32m     77\u001b[0m         \u001b[0msuper\u001b[0m\u001b[1;33m(\u001b[0m\u001b[1;33m)\u001b[0m\u001b[1;33m.\u001b[0m\u001b[0m__setattr__\u001b[0m\u001b[1;33m(\u001b[0m\u001b[0mname\u001b[0m\u001b[1;33m,\u001b[0m \u001b[0mvalue\u001b[0m\u001b[1;33m)\u001b[0m\u001b[1;33m\u001b[0m\u001b[0m\n\u001b[0;32m     78\u001b[0m \u001b[1;33m\u001b[0m\u001b[0m\n",
      "\u001b[1;31mAttributeError\u001b[0m: readonly attribute 'x'"
     ]
    }
   ],
   "source": [
    "v7.x = 2"
   ]
  },
  {
   "cell_type": "code",
   "execution_count": 51,
   "metadata": {},
   "outputs": [
    {
     "ename": "AttributeError",
     "evalue": "can't set attributes 'a' to 'z' in 'Vector'",
     "output_type": "error",
     "traceback": [
      "\u001b[1;31m---------------------------------------------------------------------------\u001b[0m",
      "\u001b[1;31mAttributeError\u001b[0m                            Traceback (most recent call last)",
      "\u001b[1;32m<ipython-input-51-b010ed8b3ae4>\u001b[0m in \u001b[0;36m<module>\u001b[1;34m()\u001b[0m\n\u001b[1;32m----> 1\u001b[1;33m \u001b[0mv7\u001b[0m\u001b[1;33m.\u001b[0m\u001b[0mk\u001b[0m \u001b[1;33m=\u001b[0m \u001b[1;36m2\u001b[0m\u001b[1;33m\u001b[0m\u001b[0m\n\u001b[0m",
      "\u001b[1;32m<ipython-input-22-677e1f3d7f64>\u001b[0m in \u001b[0;36m__setattr__\u001b[1;34m(self, name, value)\u001b[0m\n\u001b[0;32m     74\u001b[0m             \u001b[1;32mif\u001b[0m \u001b[0merror\u001b[0m\u001b[1;33m:\u001b[0m\u001b[1;33m\u001b[0m\u001b[0m\n\u001b[0;32m     75\u001b[0m                 \u001b[0mmsg\u001b[0m \u001b[1;33m=\u001b[0m \u001b[0merror\u001b[0m\u001b[1;33m.\u001b[0m\u001b[0mformat\u001b[0m\u001b[1;33m(\u001b[0m\u001b[0mcls_name\u001b[0m\u001b[1;33m=\u001b[0m\u001b[0mcls\u001b[0m\u001b[1;33m.\u001b[0m\u001b[0m__name__\u001b[0m\u001b[1;33m,\u001b[0m \u001b[0mattr_name\u001b[0m\u001b[1;33m=\u001b[0m\u001b[0mname\u001b[0m\u001b[1;33m)\u001b[0m\u001b[1;33m\u001b[0m\u001b[0m\n\u001b[1;32m---> 76\u001b[1;33m                 \u001b[1;32mraise\u001b[0m \u001b[0mAttributeError\u001b[0m\u001b[1;33m(\u001b[0m\u001b[0mmsg\u001b[0m\u001b[1;33m)\u001b[0m\u001b[1;33m\u001b[0m\u001b[0m\n\u001b[0m\u001b[0;32m     77\u001b[0m         \u001b[0msuper\u001b[0m\u001b[1;33m(\u001b[0m\u001b[1;33m)\u001b[0m\u001b[1;33m.\u001b[0m\u001b[0m__setattr__\u001b[0m\u001b[1;33m(\u001b[0m\u001b[0mname\u001b[0m\u001b[1;33m,\u001b[0m \u001b[0mvalue\u001b[0m\u001b[1;33m)\u001b[0m\u001b[1;33m\u001b[0m\u001b[0m\n\u001b[0;32m     78\u001b[0m \u001b[1;33m\u001b[0m\u001b[0m\n",
      "\u001b[1;31mAttributeError\u001b[0m: can't set attributes 'a' to 'z' in 'Vector'"
     ]
    }
   ],
   "source": [
    "v7.k = 2"
   ]
  },
  {
   "cell_type": "markdown",
   "metadata": {},
   "source": [
    "### 8. 散列测试"
   ]
  },
  {
   "cell_type": "code",
   "execution_count": 52,
   "metadata": {},
   "outputs": [
    {
     "data": {
      "text/plain": [
       "(7, 2, 1)"
      ]
     },
     "execution_count": 52,
     "metadata": {},
     "output_type": "execute_result"
    }
   ],
   "source": [
    "v1 = Vector([3, 4])\n",
    "v2 = Vector([3.1, 4.2])\n",
    "v3 = Vector([3, 4, 5])\n",
    "v6 = Vector(range(6))\n",
    "hash(v1), hash(v3), hash(v6)"
   ]
  },
  {
   "cell_type": "code",
   "execution_count": 53,
   "metadata": {},
   "outputs": [
    {
     "data": {
      "text/plain": [
       "True"
      ]
     },
     "execution_count": 53,
     "metadata": {},
     "output_type": "execute_result"
    }
   ],
   "source": [
    "# 32 位和 64 位机器上对 v2 的哈希值不一样\n",
    "import sys\n",
    "hash(v2) == (384307168202284039 if sys.maxsize > 2 ** 32 else 357915986)"
   ]
  },
  {
   "cell_type": "markdown",
   "metadata": {},
   "source": [
    "### 9. 格式化测试"
   ]
  },
  {
   "cell_type": "code",
   "execution_count": 54,
   "metadata": {},
   "outputs": [
    {
     "data": {
      "text/plain": [
       "'(3.0, 4.0)'"
      ]
     },
     "execution_count": 54,
     "metadata": {},
     "output_type": "execute_result"
    }
   ],
   "source": [
    "v1 = Vector([3, 4])\n",
    "format(v1)"
   ]
  },
  {
   "cell_type": "code",
   "execution_count": 55,
   "metadata": {},
   "outputs": [
    {
     "data": {
      "text/plain": [
       "'(3.00, 4.00)'"
      ]
     },
     "execution_count": 55,
     "metadata": {},
     "output_type": "execute_result"
    }
   ],
   "source": [
    "format(v1, '.2f')"
   ]
  },
  {
   "cell_type": "code",
   "execution_count": 56,
   "metadata": {},
   "outputs": [
    {
     "data": {
      "text/plain": [
       "'(3.000e+00, 4.000e+00)'"
      ]
     },
     "execution_count": 56,
     "metadata": {},
     "output_type": "execute_result"
    }
   ],
   "source": [
    "format(v1, '.3e')"
   ]
  },
  {
   "cell_type": "code",
   "execution_count": 57,
   "metadata": {},
   "outputs": [
    {
     "data": {
      "text/plain": [
       "('(3.0, 4.0, 5.0)', '(0.0, 1.0, 2.0, 3.0, 4.0, 5.0, 6.0)')"
      ]
     },
     "execution_count": 57,
     "metadata": {},
     "output_type": "execute_result"
    }
   ],
   "source": [
    "v3 = Vector([3, 4, 5])\n",
    "v7 = Vector(range(7))\n",
    "format(v3), format(v7)"
   ]
  },
  {
   "cell_type": "code",
   "execution_count": 58,
   "metadata": {},
   "outputs": [
    {
     "data": {
      "text/plain": [
       "'<5.0, 1.0303768265243125>'"
      ]
     },
     "execution_count": 58,
     "metadata": {},
     "output_type": "execute_result"
    }
   ],
   "source": [
    "format(v1, 'h')"
   ]
  },
  {
   "cell_type": "code",
   "execution_count": 59,
   "metadata": {},
   "outputs": [
    {
     "data": {
      "text/plain": [
       "'<5.000e+00, 1.030e+00>'"
      ]
     },
     "execution_count": 59,
     "metadata": {},
     "output_type": "execute_result"
    }
   ],
   "source": [
    "format(v1, '.3eh')"
   ]
  },
  {
   "cell_type": "code",
   "execution_count": 60,
   "metadata": {},
   "outputs": [
    {
     "data": {
      "text/plain": [
       "'<5.00000, 1.03038>'"
      ]
     },
     "execution_count": 60,
     "metadata": {},
     "output_type": "execute_result"
    }
   ],
   "source": [
    "format(v1, '0.5fh')"
   ]
  },
  {
   "cell_type": "code",
   "execution_count": 61,
   "metadata": {},
   "outputs": [
    {
     "data": {
      "text/plain": [
       "'<9.539e+00, 1.571e+00, 1.466e+00, 1.364e+00, 1.266e+00, 1.174e+00, 1.088e+00>'"
      ]
     },
     "execution_count": 61,
     "metadata": {},
     "output_type": "execute_result"
    }
   ],
   "source": [
    "format(v7, '.3eh')"
   ]
  },
  {
   "cell_type": "code",
   "execution_count": 62,
   "metadata": {},
   "outputs": [
    {
     "data": {
      "text/plain": [
       "'<9.53939, 1.57080, 1.46635, 1.36413, 1.26610, 1.17375, 1.08802>'"
      ]
     },
     "execution_count": 62,
     "metadata": {},
     "output_type": "execute_result"
    }
   ],
   "source": [
    "format(v7, '0.5fh')"
   ]
  },
  {
   "cell_type": "code",
   "execution_count": 63,
   "metadata": {},
   "outputs": [
    {
     "data": {
      "text/plain": [
       "'<2.0, 2.0344439357957027, 2.0344439357957027, 4.2487413713838835>'"
      ]
     },
     "execution_count": 63,
     "metadata": {},
     "output_type": "execute_result"
    }
   ],
   "source": [
    "format(Vector([-1, -1, -1, -1]), 'h')"
   ]
  },
  {
   "cell_type": "code",
   "execution_count": 64,
   "metadata": {},
   "outputs": [
    {
     "data": {
      "text/plain": [
       "'<1.00000, 1.57080, 0.78540, 1.57080>'"
      ]
     },
     "execution_count": 64,
     "metadata": {},
     "output_type": "execute_result"
    }
   ],
   "source": [
    "format(Vector([0, 1, 0, 0]), '0.5fh')"
   ]
  }
 ],
 "metadata": {
  "kernelspec": {
   "display_name": "Python 3",
   "language": "python",
   "name": "python3"
  },
  "language_info": {
   "codemirror_mode": {
    "name": "ipython",
    "version": 3
   },
   "file_extension": ".py",
   "mimetype": "text/x-python",
   "name": "python",
   "nbconvert_exporter": "python",
   "pygments_lexer": "ipython3",
   "version": "3.6.4"
  }
 },
 "nbformat": 4,
 "nbformat_minor": 2
}
