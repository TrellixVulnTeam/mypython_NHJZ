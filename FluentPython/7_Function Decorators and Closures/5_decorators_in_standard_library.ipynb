{
 "cells": [
  {
   "cell_type": "markdown",
   "metadata": {},
   "source": [
    "# 标准库中的装饰器"
   ]
  },
  {
   "cell_type": "markdown",
   "metadata": {},
   "source": [
    "**Python内置了3个用于装饰方法的函数：property、classmethod、staticmethod**      \n",
    "**functools里面也有几个很有用的装饰器：**      \n",
    "**functools.wraps、functools.lru_cache、functools.singledispatch**"
   ]
  },
  {
   "cell_type": "markdown",
   "metadata": {},
   "source": [
    "## 1. functools.lru_cache做备忘"
   ]
  },
  {
   "cell_type": "markdown",
   "metadata": {},
   "source": [
    "**```functools.lru_cache``` 实现了备忘功能，把耗时的函数结果保存起来，避免传入相同的参数时重复计算**     \n",
    "* *lru -> least recently used*，缓存不会无限制增长，一段时间不用的缓存会被清除掉"
   ]
  },
  {
   "cell_type": "code",
   "execution_count": 1,
   "metadata": {},
   "outputs": [],
   "source": [
    "import time\n",
    "import functools"
   ]
  },
  {
   "cell_type": "code",
   "execution_count": 2,
   "metadata": {},
   "outputs": [],
   "source": [
    "def clock(func):\n",
    "    def clocked(*args):\n",
    "        t0 = time.perf_counter()\n",
    "        result = func(*args)\n",
    "        elapsed = time.perf_counter() - t0\n",
    "        name = func.__name__\n",
    "        arg_str = ', '.join(repr(arg) for arg in args)\n",
    "        print('[%0.8fs] %s(%s) -> %r' % (elapsed, name, arg_str, result))\n",
    "        return result\n",
    "    return clocked"
   ]
  },
  {
   "cell_type": "code",
   "execution_count": 3,
   "metadata": {},
   "outputs": [],
   "source": [
    "@clock\n",
    "def fabonacci(n):\n",
    "    return n if n < 2 else fabonacci(n-2) + fabonacci(n-1)"
   ]
  },
  {
   "cell_type": "code",
   "execution_count": 4,
   "metadata": {},
   "outputs": [
    {
     "name": "stdout",
     "output_type": "stream",
     "text": [
      "[0.00000032s] fabonacci(0) -> 0\n",
      "[0.00000032s] fabonacci(1) -> 1\n",
      "[0.00005229s] fabonacci(2) -> 1\n",
      "[0.00000032s] fabonacci(1) -> 1\n",
      "[0.00000032s] fabonacci(0) -> 0\n",
      "[0.00000032s] fabonacci(1) -> 1\n",
      "[0.00003368s] fabonacci(2) -> 1\n",
      "[0.00005293s] fabonacci(3) -> 2\n",
      "[0.00012640s] fabonacci(4) -> 3\n",
      "[0.00000000s] fabonacci(1) -> 1\n",
      "[0.00000000s] fabonacci(0) -> 0\n",
      "[0.00000064s] fabonacci(1) -> 1\n",
      "[0.00025985s] fabonacci(2) -> 1\n",
      "[0.00027974s] fabonacci(3) -> 2\n",
      "[0.00000032s] fabonacci(0) -> 0\n",
      "[0.00000000s] fabonacci(1) -> 1\n",
      "[0.00003914s] fabonacci(2) -> 1\n",
      "[0.00000032s] fabonacci(1) -> 1\n",
      "[0.00000032s] fabonacci(0) -> 0\n",
      "[0.00000000s] fabonacci(1) -> 1\n",
      "[0.00001700s] fabonacci(2) -> 1\n",
      "[0.00003240s] fabonacci(3) -> 2\n",
      "[0.00008854s] fabonacci(4) -> 3\n",
      "[0.00038593s] fabonacci(5) -> 5\n",
      "[0.00052964s] fabonacci(6) -> 8\n"
     ]
    },
    {
     "data": {
      "text/plain": [
       "8"
      ]
     },
     "execution_count": 4,
     "metadata": {},
     "output_type": "execute_result"
    }
   ],
   "source": [
    "fabonacci(6)"
   ]
  },
  {
   "cell_type": "markdown",
   "metadata": {},
   "source": [
    "**上面这种计算斐波那契数列的方法明显有很多重复计算，浪费很多时间，使用 ```lru_cache``` 会显著改善性能，优化递归算法**"
   ]
  },
  {
   "cell_type": "code",
   "execution_count": 5,
   "metadata": {},
   "outputs": [],
   "source": [
    "@functools.lru_cache()   # 有括号是因为它可以接受配置参数\n",
    "@clock                   # 装饰器叠放，@lru_cache()应用到 @clock 返回的函数上\n",
    "def fabonacci(n):\n",
    "    return n if n < 2 else fabonacci(n-2) + fabonacci(n-1)"
   ]
  },
  {
   "cell_type": "code",
   "execution_count": 6,
   "metadata": {},
   "outputs": [
    {
     "name": "stdout",
     "output_type": "stream",
     "text": [
      "[0.00000032s] fabonacci(0) -> 0\n",
      "[0.00000032s] fabonacci(1) -> 1\n",
      "[0.00006384s] fabonacci(2) -> 1\n",
      "[0.00000032s] fabonacci(3) -> 2\n",
      "[0.00007988s] fabonacci(4) -> 3\n",
      "[0.00000096s] fabonacci(5) -> 5\n",
      "[0.00016778s] fabonacci(6) -> 8\n"
     ]
    },
    {
     "data": {
      "text/plain": [
       "8"
      ]
     },
     "execution_count": 6,
     "metadata": {},
     "output_type": "execute_result"
    }
   ],
   "source": [
    "fabonacci(6)"
   ]
  },
  {
   "cell_type": "code",
   "execution_count": 7,
   "metadata": {},
   "outputs": [
    {
     "name": "stdout",
     "output_type": "stream",
     "text": [
      "[0.00000064s] fabonacci(7) -> 13\n",
      "[0.00002919s] fabonacci(8) -> 21\n",
      "[0.00000064s] fabonacci(9) -> 34\n",
      "[0.00015334s] fabonacci(10) -> 55\n",
      "[0.00000064s] fabonacci(11) -> 89\n",
      "[0.00018222s] fabonacci(12) -> 144\n",
      "[0.00000032s] fabonacci(13) -> 233\n",
      "[0.00020082s] fabonacci(14) -> 377\n",
      "[0.00000032s] fabonacci(15) -> 610\n",
      "[0.00021943s] fabonacci(16) -> 987\n",
      "[0.00000032s] fabonacci(17) -> 1597\n",
      "[0.00023611s] fabonacci(18) -> 2584\n",
      "[0.00000064s] fabonacci(19) -> 4181\n",
      "[0.00042827s] fabonacci(20) -> 6765\n",
      "[0.00000064s] fabonacci(21) -> 10946\n",
      "[0.00044752s] fabonacci(22) -> 17711\n",
      "[0.00000032s] fabonacci(23) -> 28657\n",
      "[0.00046613s] fabonacci(24) -> 46368\n",
      "[0.00000032s] fabonacci(25) -> 75025\n",
      "[0.00048377s] fabonacci(26) -> 121393\n",
      "[0.00000064s] fabonacci(27) -> 196418\n",
      "[0.00050141s] fabonacci(28) -> 317811\n",
      "[0.00000032s] fabonacci(29) -> 514229\n",
      "[0.00051906s] fabonacci(30) -> 832040\n"
     ]
    },
    {
     "data": {
      "text/plain": [
       "832040"
      ]
     },
     "execution_count": 7,
     "metadata": {},
     "output_type": "execute_result"
    }
   ],
   "source": [
    "fabonacci(30)"
   ]
  },
  {
   "cell_type": "markdown",
   "metadata": {},
   "source": [
    "**```lru_cache```可以使用两个可选的配置参数：** ```lru_cache(maxsize=128, typed=False)```       \n",
    "```maxsize```: 指定存储多少个调用的结果，为了得到最佳性能，应设置为2的幂       \n",
    "```typed```: 如果设置成True，把不同的参数类型得到的结果分开保存         \n",
    "**```lru_cache```使用字典存储结果，而且键根据调用时传入的定位参数和关键字参数创建，所以被它装饰的函数的所有参数必须是可散列的**"
   ]
  },
  {
   "cell_type": "markdown",
   "metadata": {},
   "source": [
    "## 2. 单分派泛函数"
   ]
  }
 ],
 "metadata": {
  "kernelspec": {
   "display_name": "Python 3",
   "language": "python",
   "name": "python3"
  },
  "language_info": {
   "codemirror_mode": {
    "name": "ipython",
    "version": 3
   },
   "file_extension": ".py",
   "mimetype": "text/x-python",
   "name": "python",
   "nbconvert_exporter": "python",
   "pygments_lexer": "ipython3",
   "version": "3.6.4"
  }
 },
 "nbformat": 4,
 "nbformat_minor": 2
}
