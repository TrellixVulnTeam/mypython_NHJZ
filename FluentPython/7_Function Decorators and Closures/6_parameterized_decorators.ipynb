{
 "cells": [
  {
   "cell_type": "markdown",
   "metadata": {},
   "source": [
    "# 参数化装饰器"
   ]
  },
  {
   "cell_type": "markdown",
   "metadata": {},
   "source": [
    "**在装饰器上层创建一个装饰器工厂，用来接受参数，它返回装饰器**"
   ]
  },
  {
   "cell_type": "code",
   "execution_count": 34,
   "metadata": {},
   "outputs": [
    {
     "name": "stdout",
     "output_type": "stream",
     "text": [
      "running register(active=False) -> decorate(<function f1 at 0x00000152D1813E18>)\n",
      "running register(active=True) -> decorate(<function f2 at 0x00000152D18130D0>)\n"
     ]
    }
   ],
   "source": [
    "registry = set()\n",
    "\n",
    "def register(active=True):    # 装饰器工厂函数，接受装饰器参数\n",
    "    def decorate(func):       # 真正的装饰器\n",
    "        print('running register(active=%s) -> decorate(%s)' % (active, func))\n",
    "        if active:\n",
    "            registry.add(func)\n",
    "        else:\n",
    "            registry.discard(func)\n",
    "        return func           # 装饰器必须返回一个函数\n",
    "    return decorate           # 装饰器工厂函数必须返回装饰器\n",
    "\n",
    "@register(active=False)\n",
    "def f1():\n",
    "    print('running f1()')\n",
    "\n",
    "@register()     # 装饰器工厂函数必须作为函数调用，即使不传入参数，因为它本身不是装饰器，它的调用返回才是真正的装饰器\n",
    "def f2():\n",
    "    print('running f2()')\n",
    "    \n",
    "def f3():\n",
    "    print('running f3()')"
   ]
  },
  {
   "cell_type": "code",
   "execution_count": 35,
   "metadata": {},
   "outputs": [
    {
     "data": {
      "text/plain": [
       "{<function __main__.f2>}"
      ]
     },
     "execution_count": 35,
     "metadata": {},
     "output_type": "execute_result"
    }
   ],
   "source": [
    "registry    # 很奇怪的发现当把装饰 f2()单独放到一个cell里面， 那个cell执行多次，这里的 registry里面是有多个 f2，字面上看到的都是一样的，但是registry是set，说明它们本质上不是同一个f2，每当执行一次会在内存的不同地方出现不同的f2"
   ]
  },
  {
   "cell_type": "markdown",
   "metadata": {},
   "source": [
    "**如果不使用 @ 句法，那就是常规函数的调用**"
   ]
  },
  {
   "cell_type": "code",
   "execution_count": 36,
   "metadata": {},
   "outputs": [
    {
     "name": "stdout",
     "output_type": "stream",
     "text": [
      "running register(active=True) -> decorate(<function f3 at 0x00000152D18137B8>)\n"
     ]
    },
    {
     "data": {
      "text/plain": [
       "<function __main__.f3>"
      ]
     },
     "execution_count": 36,
     "metadata": {},
     "output_type": "execute_result"
    }
   ],
   "source": [
    "register()(f3)"
   ]
  },
  {
   "cell_type": "code",
   "execution_count": 37,
   "metadata": {},
   "outputs": [
    {
     "data": {
      "text/plain": [
       "{<function __main__.f2>, <function __main__.f3>}"
      ]
     },
     "execution_count": 37,
     "metadata": {},
     "output_type": "execute_result"
    }
   ],
   "source": [
    "registry"
   ]
  },
  {
   "cell_type": "code",
   "execution_count": 39,
   "metadata": {},
   "outputs": [
    {
     "name": "stdout",
     "output_type": "stream",
     "text": [
      "running register(active=False) -> decorate(<function f2 at 0x00000152D18130D0>)\n"
     ]
    },
    {
     "data": {
      "text/plain": [
       "<function __main__.f2>"
      ]
     },
     "execution_count": 39,
     "metadata": {},
     "output_type": "execute_result"
    }
   ],
   "source": [
    "register(active=False)(f2)"
   ]
  },
  {
   "cell_type": "code",
   "execution_count": 40,
   "metadata": {},
   "outputs": [
    {
     "data": {
      "text/plain": [
       "{<function __main__.f3>}"
      ]
     },
     "execution_count": 40,
     "metadata": {},
     "output_type": "execute_result"
    }
   ],
   "source": [
    "registry"
   ]
  },
  {
   "cell_type": "markdown",
   "metadata": {},
   "source": [
    "**这样会更好的理解装饰器是怎么回事：**"
   ]
  },
  {
   "cell_type": "code",
   "execution_count": 47,
   "metadata": {},
   "outputs": [],
   "source": [
    "def deco_fac(*args1):\n",
    "    def deco(func):\n",
    "        def new_func(*args2):\n",
    "            print(*args2)\n",
    "        return new_func\n",
    "    return deco"
   ]
  },
  {
   "cell_type": "code",
   "execution_count": 48,
   "metadata": {},
   "outputs": [],
   "source": [
    "@deco_fac(1, 2, 3)\n",
    "def f(a, b): pass"
   ]
  },
  {
   "cell_type": "code",
   "execution_count": 51,
   "metadata": {},
   "outputs": [
    {
     "name": "stdout",
     "output_type": "stream",
     "text": [
      "a b\n",
      "a b\n"
     ]
    }
   ],
   "source": [
    "f('a', 'b')\n",
    "\n",
    "# 相当于\n",
    "\n",
    "deco_fac(1, 2, 3)(f)('a', 'b')    # 不是 deco_fac(1, 2, 3)(f('a', 'b'))，这个只会返回 new_func"
   ]
  },
  {
   "cell_type": "markdown",
   "metadata": {},
   "source": [
    "## 参数化clock装饰器"
   ]
  },
  {
   "cell_type": "code",
   "execution_count": null,
   "metadata": {},
   "outputs": [],
   "source": []
  }
 ],
 "metadata": {
  "kernelspec": {
   "display_name": "Python 3",
   "language": "python",
   "name": "python3"
  },
  "language_info": {
   "codemirror_mode": {
    "name": "ipython",
    "version": 3
   },
   "file_extension": ".py",
   "mimetype": "text/x-python",
   "name": "python",
   "nbconvert_exporter": "python",
   "pygments_lexer": "ipython3",
   "version": "3.6.4"
  }
 },
 "nbformat": 4,
 "nbformat_minor": 2
}
