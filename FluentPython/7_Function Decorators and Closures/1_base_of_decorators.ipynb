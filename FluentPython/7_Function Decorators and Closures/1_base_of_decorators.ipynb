{
 "cells": [
  {
   "cell_type": "markdown",
   "metadata": {},
   "source": [
    "# 装饰器"
   ]
  },
  {
   "cell_type": "markdown",
   "metadata": {},
   "source": [
    "**装饰器是可调用的对象，其参数是另一个函数或者是类（被装饰）**\n",
    "* 装饰器可能会处理被装饰的函数，然后把它返回；或者替换成另一个函数或可调用对象\n",
    "* 装饰器在加载模块时立即执行"
   ]
  },
  {
   "cell_type": "code",
   "execution_count": 4,
   "metadata": {},
   "outputs": [],
   "source": [
    "def decorate(func):\n",
    "    def inner():\n",
    "        print('running inner()')\n",
    "    return inner"
   ]
  },
  {
   "cell_type": "code",
   "execution_count": 5,
   "metadata": {},
   "outputs": [
    {
     "name": "stdout",
     "output_type": "stream",
     "text": [
      "running inner()\n"
     ]
    }
   ],
   "source": [
    "@decorate\n",
    "def target():\n",
    "    print('running target()')\n",
    "    \n",
    "target()"
   ]
  },
  {
   "cell_type": "markdown",
   "metadata": {},
   "source": [
    "**等同于**"
   ]
  },
  {
   "cell_type": "code",
   "execution_count": 6,
   "metadata": {},
   "outputs": [
    {
     "name": "stdout",
     "output_type": "stream",
     "text": [
      "running inner()\n"
     ]
    }
   ],
   "source": [
    "def target():\n",
    "    print('running target()')\n",
    "    \n",
    "target = decorate(target)\n",
    "target()"
   ]
  },
  {
   "cell_type": "markdown",
   "metadata": {},
   "source": [
    "## 装饰器何时被执行"
   ]
  },
  {
   "cell_type": "markdown",
   "metadata": {},
   "source": [
    "**函数装饰器在导入模块时立即执行**"
   ]
  },
  {
   "cell_type": "code",
   "execution_count": 8,
   "metadata": {},
   "outputs": [
    {
     "name": "stdout",
     "output_type": "stream",
     "text": [
      "running register(<function f1 at 0x0000027AB40CAF28>)\n",
      "running register(<function f2 at 0x0000027AB40F1400>)\n",
      "running main()\n",
      "registry -> [<function f1 at 0x0000027AB40CAF28>, <function f2 at 0x0000027AB40F1400>]\n",
      "running f1()\n",
      "running f2()\n",
      "running f3()\n"
     ]
    }
   ],
   "source": [
    "registry = []\n",
    "\n",
    "def register(func):\n",
    "    print('running register(%s)' % func)\n",
    "    registry.append(func)\n",
    "    return func\n",
    "\n",
    "@register\n",
    "def f1():\n",
    "    print('running f1()')\n",
    "    \n",
    "@register\n",
    "def f2():\n",
    "    print('running f2()')\n",
    "\n",
    "def f3():\n",
    "    print('running f3()')\n",
    "    \n",
    "def main():\n",
    "    print('running main()')\n",
    "    print('registry ->', registry)\n",
    "    f1()\n",
    "    f2()\n",
    "    f3()\n",
    "\n",
    "if __name__ == '__main__':\n",
    "    main()"
   ]
  },
  {
   "cell_type": "markdown",
   "metadata": {},
   "source": [
    "* **函数装饰器在导入模块时立即执行，被装饰的函数只在明确调用时运行**\n",
    "* **装饰器通常在一个模块中定义，然后应用到其他模块中的函数上**\n",
    "* **装饰器通常会在内部定义一个函数，然后将其返回；很少返回的函数和传入的相同**"
   ]
  }
 ],
 "metadata": {
  "kernelspec": {
   "display_name": "Python 3",
   "language": "python",
   "name": "python3"
  },
  "language_info": {
   "codemirror_mode": {
    "name": "ipython",
    "version": 3
   },
   "file_extension": ".py",
   "mimetype": "text/x-python",
   "name": "python",
   "nbconvert_exporter": "python",
   "pygments_lexer": "ipython3",
   "version": "3.6.4"
  }
 },
 "nbformat": 4,
 "nbformat_minor": 2
}
