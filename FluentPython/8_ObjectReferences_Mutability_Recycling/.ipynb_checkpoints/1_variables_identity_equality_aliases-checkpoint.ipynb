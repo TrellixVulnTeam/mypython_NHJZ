{
 "cells": [
  {
   "cell_type": "markdown",
   "metadata": {},
   "source": [
    "# 变量"
   ]
  },
  {
   "cell_type": "markdown",
   "metadata": {},
   "source": [
    "**Python中，变量只是一个标注（标签），而不是一个盒子（box）。**    \n",
    "\n",
    "Python中的变量类似于C++、Java等中的引用变量。**Important!** 这里谈到的变量是**容器序列**（list、tuple、dict、set ...），扁平序列（str、bytes ...）有所不同。\n",
    "\n",
    "翻译一下就是，这里有一个装着*变量* 的盒子，你可以给这个盒子起名为*a*、*py*、*sxn*、...，想起多少个起多少个（只要你能够记住它们都代表这个盒子，不要有人问的时候自己都迷糊了），但是真正确定这个盒子的是他的 **标识（id）**，比如XX市xx小区xx楼xx这样的位置，这里就是这个盒子在内存地址。\n",
    "\n",
    "Python中的变量类似于C++、Java等中的引用变量，所以所有参数传递都是引用传参。\n",
    "\n",
    "**摒弃这样一个错误观念：变量是存储数据的盒子（众多*隐藏* bug的罪魁祸首）；接受这样一个正确观念：变量是存储数据的盒子 的标注（标签），不唯一**"
   ]
  },
  {
   "cell_type": "markdown",
   "metadata": {},
   "source": [
    "---\n",
    "最简单的Example"
   ]
  },
  {
   "cell_type": "code",
   "execution_count": 1,
   "metadata": {},
   "outputs": [
    {
     "name": "stdout",
     "output_type": "stream",
     "text": [
      "[1, 2, 3, 4] [1, 2, 3, 4]\n",
      "[1, 2, 3, 4, 5] [1, 2, 3, 4, 5]\n"
     ]
    }
   ],
   "source": [
    "a = [1, 2, 3]\n",
    "b = a\n",
    "b.append(4)\n",
    "print(a, b)\n",
    "a.append(5)\n",
    "print(a, b)"
   ]
  },
  {
   "cell_type": "markdown",
   "metadata": {},
   "source": [
    "对于赋值语句，正确的理解是**把变量分配给对象**（即左边分配给右边），因为对象在赋值前就创建了，赋值语句始终先读右边"
   ]
  },
  {
   "cell_type": "code",
   "execution_count": 2,
   "metadata": {},
   "outputs": [
    {
     "name": "stdout",
     "output_type": "stream",
     "text": [
      "myAssignment id is 1930710009840\n",
      "myAssignment id is 1930710009336\n"
     ]
    },
    {
     "ename": "TypeError",
     "evalue": "unsupported operand type(s) for *: 'myAssignment' and 'int'",
     "output_type": "error",
     "traceback": [
      "\u001b[1;31m---------------------------------------------------------------------------\u001b[0m",
      "\u001b[1;31mTypeError\u001b[0m                                 Traceback (most recent call last)",
      "\u001b[1;32m<ipython-input-2-389f3865e312>\u001b[0m in \u001b[0;36m<module>\u001b[1;34m()\u001b[0m\n\u001b[0;32m      4\u001b[0m \u001b[1;33m\u001b[0m\u001b[0m\n\u001b[0;32m      5\u001b[0m \u001b[0mx\u001b[0m \u001b[1;33m=\u001b[0m \u001b[0mmyAssignment\u001b[0m\u001b[1;33m(\u001b[0m\u001b[1;33m)\u001b[0m\u001b[1;33m\u001b[0m\u001b[0m\n\u001b[1;32m----> 6\u001b[1;33m \u001b[0my\u001b[0m \u001b[1;33m=\u001b[0m \u001b[0mmyAssignment\u001b[0m\u001b[1;33m(\u001b[0m\u001b[1;33m)\u001b[0m \u001b[1;33m*\u001b[0m \u001b[1;36m10\u001b[0m    \u001b[1;31m# 报错，但是右边的myAssignment对象已经创建，而y没有创建\u001b[0m\u001b[1;33m\u001b[0m\u001b[0m\n\u001b[0m",
      "\u001b[1;31mTypeError\u001b[0m: unsupported operand type(s) for *: 'myAssignment' and 'int'"
     ]
    }
   ],
   "source": [
    "class myAssignment:\n",
    "    def __init__(self):\n",
    "        print('myAssignment id is {}'.format(id(self)))\n",
    "        \n",
    "x = myAssignment()\n",
    "y = myAssignment() * 10    # 报错，但是右边的myAssignment对象已经创建，而y没有创建"
   ]
  },
  {
   "cell_type": "code",
   "execution_count": 4,
   "metadata": {},
   "outputs": [
    {
     "name": "stdout",
     "output_type": "stream",
     "text": [
      "['In', 'Out', '_', '_3', '__', '___', '__builtin__', '__builtins__', '__doc__', '__loader__', '__name__', '__package__', '__spec__', '_dh', '_i', '_i1', '_i2', '_i3', '_i4', '_ih', '_ii', '_iii', '_oh', 'a', 'b', 'exit', 'get_ipython', 'myAssignment', 'quit', 'x']\n"
     ]
    }
   ],
   "source": [
    "print(dir())   # 可以看到y没有被创建"
   ]
  },
  {
   "cell_type": "markdown",
   "metadata": {},
   "source": [
    "# 相等性"
   ]
  },
  {
   "cell_type": "markdown",
   "metadata": {},
   "source": [
    "1. 之前提到给变量盒子起很多个名字，或者说贴很多个标注，它们仅仅都是**别名**\n",
    "2. 如果有另一个盒子，里面的数据和之前的盒子里的一模一样，当然这就是“冒充”了\n",
    "\n",
    "所以从两个方面比较两个变量：\n",
    "1. 等价，即内存地址一样 （is运算符和id函数，is比较的就是对象的标识，id()返回标识的整数表示）\n",
    "2. 值相等 （==运算符）"
   ]
  },
  {
   "cell_type": "code",
   "execution_count": 5,
   "metadata": {},
   "outputs": [
    {
     "name": "stdout",
     "output_type": "stream",
     "text": [
      "True\n",
      "1930710672512 1930710672512\n"
     ]
    }
   ],
   "source": [
    "sxn = {'name': 'Xiaonan Sang', 'age': 24}\n",
    "bruce_sang = sxn\n",
    "print(bruce_sang is sxn)\n",
    "print(id(sxn), id(bruce_sang))\n",
    "# 等价则值一定相等，就不code了"
   ]
  },
  {
   "cell_type": "code",
   "execution_count": 8,
   "metadata": {},
   "outputs": [
    {
     "name": "stdout",
     "output_type": "stream",
     "text": [
      "True\n",
      "False\n"
     ]
    }
   ],
   "source": [
    "fake_sxn = {'name': 'Xiaonan Sang', 'age': 24}\n",
    "print(fake_sxn == sxn)    # 值相等，tips: ==由__eq__方法实现\n",
    "print(fake_sxn is sxn)    # 但是不等价"
   ]
  },
  {
   "cell_type": "markdown",
   "metadata": {},
   "source": [
    "In summary，==运算符比较两个对象的值（保存的数据）；is比较对象的标识。   \n",
    "\n",
    "通常情况下可能会更关心的是值相等，但是在变量和单例值之间比较时应使用is，最常用的就是检查变量绑定的值是否为None。   \n",
    "```x is None```    \n",
    "```x is not None```    \n",
    "\n",
    "由于is不能重载，所以它比==速度快很多。"
   ]
  },
  {
   "cell_type": "markdown",
   "metadata": {},
   "source": [
    "### 扁平序列的特殊性"
   ]
  },
  {
   "cell_type": "markdown",
   "metadata": {},
   "source": [
    "扁平序列，即str、bytes、array.array等单一类型的序列，它们和容器序列不同，它们保存的不是引用，而是**在连续的内存中保存数据本身**。"
   ]
  },
  {
   "cell_type": "code",
   "execution_count": 10,
   "metadata": {},
   "outputs": [
    {
     "name": "stdout",
     "output_type": "stream",
     "text": [
      "True\n",
      "True\n",
      "False\n"
     ]
    }
   ],
   "source": [
    "a = 'abc'\n",
    "b = 'abc'\n",
    "print(a is b)\n",
    "\n",
    "a = '#'\n",
    "b = '#'\n",
    "print(a is b)\n",
    "\n",
    "a = '#@'\n",
    "b = '#@'\n",
    "print(a is b)"
   ]
  },
  {
   "cell_type": "markdown",
   "metadata": {},
   "source": [
    "看上面的结果会感到很奇怪，一般字符的组合会在同一个连续内存块保存，但是两组特殊字符的组合会另开空间存。   \n",
    "\n",
    "这其实是Python**共享字符串字面量**，称为**驻留**，是一种优化措施，同样适用于小的整数，防止重复创建一些常用的字符串或者数字；关于驻留条件的实现细节没有文档说明，不要依赖**驻留**，只需知道这个奇怪现象的存在。"
   ]
  },
  {
   "cell_type": "markdown",
   "metadata": {},
   "source": [
    "# 元组的相对不可变性"
   ]
  },
  {
   "cell_type": "markdown",
   "metadata": {},
   "source": [
    "和其他容器类型一样，元组保存的也是对象的引用。   \n",
    "\n",
    "但是，如果其中某个引用的元素是可变的，即便元组本身不可变，该元素依然可变。   \n",
    "\n",
    "换句话说，元组的不可变性是指**保存的引用**不可变，与引用的对象无关。"
   ]
  },
  {
   "cell_type": "code",
   "execution_count": 11,
   "metadata": {},
   "outputs": [
    {
     "name": "stdout",
     "output_type": "stream",
     "text": [
      "True\n",
      "1930710647624\n",
      "(1, 2, [3, 4, 5]) 1930710647624 False\n"
     ]
    }
   ],
   "source": [
    "t1 = (1, 2, [3, 4])\n",
    "t2 = (1, 2, [3, 4])\n",
    "print(t1 == t2)\n",
    "print(id(t1[-1]))\n",
    "\n",
    "t1[-1].append(5)\n",
    "print(t1, id(t1[-1]), t1 == t2)   # t1[-1]就地修改了，但是标识没有变，也就是说 t1 没有变"
   ]
  },
  {
   "cell_type": "markdown",
   "metadata": {},
   "source": [
    "这也就是某些包含了不可散列对象的元组，它们也不可散列的原因。\n",
    "\n",
    "接下来就是 **copy** 和 **deepcopy** 的问题了。"
   ]
  }
 ],
 "metadata": {
  "kernelspec": {
   "display_name": "Python 3",
   "language": "python",
   "name": "python3"
  },
  "language_info": {
   "codemirror_mode": {
    "name": "ipython",
    "version": 3
   },
   "file_extension": ".py",
   "mimetype": "text/x-python",
   "name": "python",
   "nbconvert_exporter": "python",
   "pygments_lexer": "ipython3",
   "version": "3.6.4"
  }
 },
 "nbformat": 4,
 "nbformat_minor": 2
}
