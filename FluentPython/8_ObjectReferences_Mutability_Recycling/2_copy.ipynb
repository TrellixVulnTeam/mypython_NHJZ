{
 "cells": [
  {
   "cell_type": "markdown",
   "metadata": {},
   "source": [
    "*深浅复制的讨论是基于可变类型的*"
   ]
  },
  {
   "cell_type": "markdown",
   "metadata": {},
   "source": [
    "# 浅复制"
   ]
  },
  {
   "cell_type": "markdown",
   "metadata": {},
   "source": [
    "**复制最外层容器，副本中的元素是源容器中元素的引用**      \n",
    "\n",
    "**列表**浅复制包括 ——   \n",
    "1. 构造方法\n",
    "2. ```[:]```切片赋值\n",
    "3. 自身的copy方法\n",
    "4. copy模块的copy方法"
   ]
  },
  {
   "cell_type": "code",
   "execution_count": 14,
   "metadata": {},
   "outputs": [],
   "source": [
    "l1 = [1, 2, [3, 4], (5, 6, 7), 8]\n",
    "\n",
    "# 构造方法\n",
    "l2 = list(l1)\n",
    "\n",
    "# 切片赋值\n",
    "l3 = l1[:]\n",
    "\n",
    "# 列表浅复制方法\n",
    "l4 = l1.copy()\n",
    "\n",
    "# copy模块的浅复制方法\n",
    "import copy\n",
    "l5 = copy.copy(l1)"
   ]
  },
  {
   "cell_type": "code",
   "execution_count": 15,
   "metadata": {},
   "outputs": [
    {
     "name": "stdout",
     "output_type": "stream",
     "text": [
      "False False False False\n",
      "True True True True\n",
      "True True True True\n"
     ]
    }
   ],
   "source": [
    "# 外层容器已经不是同一个对象了\n",
    "print(l1 is l2, \n",
    "      l1 is l3, \n",
    "      l1 is l4, \n",
    "      l1 is l5)\n",
    "\n",
    "# 内层容器还是同一个对象\n",
    "print(l1[2] is l2[2], \n",
    "     l1[2] is l3[2], \n",
    "     l1[2] is l4[2], \n",
    "     l1[2] is l5[2], )\n",
    "\n",
    "print(l1[3] is l2[3], \n",
    "     l1[3] is l3[3], \n",
    "     l1[3] is l4[3], \n",
    "     l1[3] is l5[3], )"
   ]
  },
  {
   "cell_type": "markdown",
   "metadata": {},
   "source": [
    "毫无疑问，结果展现出了 **浅复制** 的特点   \n",
    "\n",
    "接下来针对内部容器进行一些修改，不出意外的话应该是改一个必然会影响其他的，因为内部容器还是相同对象。\n",
    "但是 ...  *（以 ```l1``` 和 ```l2``` 为例）*"
   ]
  },
  {
   "cell_type": "code",
   "execution_count": 16,
   "metadata": {},
   "outputs": [
    {
     "name": "stdout",
     "output_type": "stream",
     "text": [
      "l1: [1, 2, [3, 4], (5, 6, 7), 9]\n",
      "l2: [1, 2, [3, 4], (5, 6, 7), 8]\n",
      "\n",
      "l1: [1, 2, [3, 4, 33, 44], (5, 6, 7), 9]\n",
      "l2: [1, 2, [3, 4, 33, 44], (5, 6, 7), 8]\n"
     ]
    }
   ],
   "source": [
    "# l1 修改内部的非容器序列不会影响 l2\n",
    "l1.remove(8)\n",
    "l1.append(9)\n",
    "print('l1: {}'.format(l1), \n",
    "      'l2: {}'.format(l2), sep='\\n')\n",
    "\n",
    "print()\n",
    "\n",
    "# l1 修改内部的列表肯定会影响 l2，l2也会改变\n",
    "l1[2] += [33, 44]\n",
    "print('l1: {}'.format(l1), \n",
    "      'l2: {}'.format(l2), sep='\\n')"
   ]
  },
  {
   "cell_type": "markdown",
   "metadata": {},
   "source": [
    "结果依然符合预期，接下来对内部元组进行*“修改”*（ps: 元组不可变）"
   ]
  },
  {
   "cell_type": "code",
   "execution_count": 17,
   "metadata": {},
   "outputs": [
    {
     "name": "stdout",
     "output_type": "stream",
     "text": [
      "l1: [1, 2, [3, 4, 33, 44], (5, 6, 7, 55, 66), 9]\n",
      "l2: [1, 2, [3, 4, 33, 44], (5, 6, 7), 8]\n"
     ]
    }
   ],
   "source": [
    "l1[3] += (55, 66)\n",
    "print('l1: {}'.format(l1), \n",
    "      'l2: {}'.format(l2), sep='\\n')"
   ]
  },
  {
   "cell_type": "markdown",
   "metadata": {},
   "source": [
    "结果似乎不是想的那样，```l1``` 改了内部元组没有影响到 ```l2``` 中对应的元组。   \n",
    "\n",
    "首先，这里的修改是 ```+=```，这类运算符有其特殊性。    \n",
    "对于列表，```+=```是 **就地修改**；对于元组，```+=```会重新创建一个元组，然后绑定到变量名上（这里就是 ```l1[3]``` ）    \n",
    "```+=```是容器对象的```__iadd__```实现的，本质含义就是 **就地修改**    \n",
    "列表实现了```__iadd__```，但是元组是**不可变**的，所以尽管```+=```对于元组照样能用，只不过不是就地修改，而是创建一个新的元组对象再赋值"
   ]
  },
  {
   "cell_type": "markdown",
   "metadata": {},
   "source": [
    "---"
   ]
  },
  {
   "cell_type": "markdown",
   "metadata": {},
   "source": [
    "# 深复制"
   ]
  },
  {
   "cell_type": "markdown",
   "metadata": {},
   "source": [
    "**副本不共享内部对象的引用**    \n",
    "\n",
    "使用 ```copy``` 模块的 ```deepcopy``` 方法实现深复制    "
   ]
  },
  {
   "cell_type": "markdown",
   "metadata": {},
   "source": [
    "#### 深浅复制对比  *（上下公交车）*"
   ]
  },
  {
   "cell_type": "code",
   "execution_count": 27,
   "metadata": {},
   "outputs": [],
   "source": [
    "class Bus:\n",
    "    \n",
    "    def __init__(self, passengers=None):\n",
    "        if passengers is None:\n",
    "            self.passengers = []\n",
    "        else:\n",
    "            self.passengers = list(passengers)\n",
    "            \n",
    "    def pick(self, name):\n",
    "        self.passengers.append(name)\n",
    "        \n",
    "    def drop(self, name):\n",
    "        self.passengers.remove(name)\n",
    "        \n",
    "import copy\n",
    "bus1 = Bus(['Alice', 'Bob', 'Canny', 'David'])\n",
    "bus2 = copy.copy(bus1)\n",
    "bus3 = copy.deepcopy(bus1)"
   ]
  },
  {
   "cell_type": "code",
   "execution_count": 28,
   "metadata": {},
   "outputs": [
    {
     "data": {
      "text/plain": [
       "(1887896688120, 1887896688176, 1887897229296)"
      ]
     },
     "execution_count": 28,
     "metadata": {},
     "output_type": "execute_result"
    }
   ],
   "source": [
    "# 三个不同的对象\n",
    "id(bus1), id(bus2), id(bus3)"
   ]
  },
  {
   "cell_type": "code",
   "execution_count": 29,
   "metadata": {},
   "outputs": [],
   "source": [
    "bus1.drop('Alice')"
   ]
  },
  {
   "cell_type": "code",
   "execution_count": 30,
   "metadata": {},
   "outputs": [
    {
     "data": {
      "text/plain": [
       "['Bob', 'Canny', 'David']"
      ]
     },
     "execution_count": 30,
     "metadata": {},
     "output_type": "execute_result"
    }
   ],
   "source": [
    "# bus2 是 bus1 的浅复制，共享 passengers属性\n",
    "bus2.passengers"
   ]
  },
  {
   "cell_type": "code",
   "execution_count": 31,
   "metadata": {},
   "outputs": [
    {
     "data": {
      "text/plain": [
       "['Alice', 'Bob', 'Canny', 'David']"
      ]
     },
     "execution_count": 31,
     "metadata": {},
     "output_type": "execute_result"
    }
   ],
   "source": [
    "# bus3 是 bus1 的深复制，passengers属性指向另一个列表\n",
    "bus3.passengers"
   ]
  },
  {
   "cell_type": "code",
   "execution_count": 32,
   "metadata": {},
   "outputs": [
    {
     "data": {
      "text/plain": [
       "(1887897173640, 1887897173640, 1887897170888)"
      ]
     },
     "execution_count": 32,
     "metadata": {},
     "output_type": "execute_result"
    }
   ],
   "source": [
    "id(bus1.passengers), id(bus2.passengers), id(bus3.passengers)"
   ]
  },
  {
   "cell_type": "markdown",
   "metadata": {},
   "source": [
    "- ```deepcopy```会记住已经复制的对象，优雅地处理**循环引用**"
   ]
  },
  {
   "cell_type": "code",
   "execution_count": 33,
   "metadata": {},
   "outputs": [
    {
     "data": {
      "text/plain": [
       "[1, 2, [[...], 3]]"
      ]
     },
     "execution_count": 33,
     "metadata": {},
     "output_type": "execute_result"
    }
   ],
   "source": [
    "a = [1, 2]\n",
    "b = [a, 3]\n",
    "a.append(b)\n",
    "a"
   ]
  },
  {
   "cell_type": "code",
   "execution_count": 34,
   "metadata": {},
   "outputs": [
    {
     "data": {
      "text/plain": [
       "[1, 2, [[...], 3]]"
      ]
     },
     "execution_count": 34,
     "metadata": {},
     "output_type": "execute_result"
    }
   ],
   "source": [
    "c = copy.deepcopy(a)\n",
    "c"
   ]
  },
  {
   "cell_type": "markdown",
   "metadata": {},
   "source": [
    "# 不可变类型的复制"
   ]
  },
  {
   "cell_type": "markdown",
   "metadata": {},
   "source": [
    "**看似奇怪但是细想有道理的现象是，Python对不可变类型复制的实现细节和可变类型不同**    \n",
    "\n",
    "包括tuple、str、bytes、frozenset等的不可变类型，它们的构造方法、```[:]```赋值、copy、deepcopy，最后得到的都是同一个对象的引用，不是创建的副本。"
   ]
  },
  {
   "cell_type": "code",
   "execution_count": 35,
   "metadata": {},
   "outputs": [
    {
     "data": {
      "text/plain": [
       "(True, True, True, True)"
      ]
     },
     "execution_count": 35,
     "metadata": {},
     "output_type": "execute_result"
    }
   ],
   "source": [
    "t1 = (1, 2, 3)\n",
    "t2 = tuple(t1)\n",
    "t3 = t1[:]\n",
    "t4 = copy.copy(t1)\n",
    "t5 = copy.deepcopy(t1)\n",
    "\n",
    "t2 is t1, t3 is t1, t4 is t1, t5 is t1"
   ]
  },
  {
   "cell_type": "markdown",
   "metadata": {},
   "source": [
    "所以在之前对于包含元组的列表进行深拷贝，里面的元组同样指向同一对象"
   ]
  },
  {
   "cell_type": "code",
   "execution_count": 36,
   "metadata": {},
   "outputs": [
    {
     "data": {
      "text/plain": [
       "True"
      ]
     },
     "execution_count": 36,
     "metadata": {},
     "output_type": "execute_result"
    }
   ],
   "source": [
    "ll1 = [1, (2, 3)]\n",
    "ll2 = copy.deepcopy(ll1)\n",
    "ll1[1] is ll2[1]"
   ]
  },
  {
   "cell_type": "markdown",
   "metadata": {},
   "source": [
    "文档中也指出这一行为 —— **```If the argument is a tuple, the return value is the same object.```**"
   ]
  },
  {
   "cell_type": "code",
   "execution_count": 37,
   "metadata": {},
   "outputs": [
    {
     "name": "stdout",
     "output_type": "stream",
     "text": [
      "Help on class tuple in module builtins:\n",
      "\n",
      "class tuple(object)\n",
      " |  tuple() -> empty tuple\n",
      " |  tuple(iterable) -> tuple initialized from iterable's items\n",
      " |  \n",
      " |  If the argument is a tuple, the return value is the same object.\n",
      " |  \n",
      " |  Methods defined here:\n",
      " |  \n",
      " |  __add__(self, value, /)\n",
      " |      Return self+value.\n",
      " |  \n",
      " |  __contains__(self, key, /)\n",
      " |      Return key in self.\n",
      " |  \n",
      " |  __eq__(self, value, /)\n",
      " |      Return self==value.\n",
      " |  \n",
      " |  __ge__(self, value, /)\n",
      " |      Return self>=value.\n",
      " |  \n",
      " |  __getattribute__(self, name, /)\n",
      " |      Return getattr(self, name).\n",
      " |  \n",
      " |  __getitem__(self, key, /)\n",
      " |      Return self[key].\n",
      " |  \n",
      " |  __getnewargs__(...)\n",
      " |  \n",
      " |  __gt__(self, value, /)\n",
      " |      Return self>value.\n",
      " |  \n",
      " |  __hash__(self, /)\n",
      " |      Return hash(self).\n",
      " |  \n",
      " |  __iter__(self, /)\n",
      " |      Implement iter(self).\n",
      " |  \n",
      " |  __le__(self, value, /)\n",
      " |      Return self<=value.\n",
      " |  \n",
      " |  __len__(self, /)\n",
      " |      Return len(self).\n",
      " |  \n",
      " |  __lt__(self, value, /)\n",
      " |      Return self<value.\n",
      " |  \n",
      " |  __mul__(self, value, /)\n",
      " |      Return self*value.n\n",
      " |  \n",
      " |  __ne__(self, value, /)\n",
      " |      Return self!=value.\n",
      " |  \n",
      " |  __new__(*args, **kwargs) from builtins.type\n",
      " |      Create and return a new object.  See help(type) for accurate signature.\n",
      " |  \n",
      " |  __repr__(self, /)\n",
      " |      Return repr(self).\n",
      " |  \n",
      " |  __rmul__(self, value, /)\n",
      " |      Return self*value.\n",
      " |  \n",
      " |  count(...)\n",
      " |      T.count(value) -> integer -- return number of occurrences of value\n",
      " |  \n",
      " |  index(...)\n",
      " |      T.index(value, [start, [stop]]) -> integer -- return first index of value.\n",
      " |      Raises ValueError if the value is not present.\n",
      "\n"
     ]
    }
   ],
   "source": [
    "help(tuple)"
   ]
  },
  {
   "cell_type": "markdown",
   "metadata": {},
   "source": [
    "考虑一下为什么Python对于不可变类型的复制是这样的。不可变类型由于其**不可变性**，所以不会出现由改变某一对象而引发的各种意外，因此针对不可变类型的复制完全可以是指向同一个对象，这样能够节省内存，提升解释器的速度。类似的现象还有共享字符串字面量的**驻留**。"
   ]
  },
  {
   "cell_type": "markdown",
   "metadata": {},
   "source": [
    "如果非要创建一个内容完全一样，但是不想指向同一对象的元组，也不想重新敲一遍赋值的内容，就是想由 ```t1``` 创建一个对象不同的 ```t2```，那就这样吧 ..."
   ]
  },
  {
   "cell_type": "code",
   "execution_count": 39,
   "metadata": {},
   "outputs": [
    {
     "name": "stdout",
     "output_type": "stream",
     "text": [
      "(1, 2) (1, 2)\n"
     ]
    },
    {
     "data": {
      "text/plain": [
       "False"
      ]
     },
     "execution_count": 39,
     "metadata": {},
     "output_type": "execute_result"
    }
   ],
   "source": [
    "t1 = (1, 2)\n",
    "t2 = t1 + ()\n",
    "\n",
    "print(t1, t2)\n",
    "\n",
    "t1 is t2"
   ]
  }
 ],
 "metadata": {
  "kernelspec": {
   "display_name": "Python 3",
   "language": "python",
   "name": "python3"
  },
  "language_info": {
   "codemirror_mode": {
    "name": "ipython",
    "version": 3
   },
   "file_extension": ".py",
   "mimetype": "text/x-python",
   "name": "python",
   "nbconvert_exporter": "python",
   "pygments_lexer": "ipython3",
   "version": "3.6.4"
  }
 },
 "nbformat": 4,
 "nbformat_minor": 2
}
